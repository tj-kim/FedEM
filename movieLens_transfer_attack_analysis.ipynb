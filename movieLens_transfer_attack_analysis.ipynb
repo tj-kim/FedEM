{
 "cells": [
  {
   "cell_type": "code",
   "execution_count": 1,
   "metadata": {},
   "outputs": [
    {
     "name": "stderr",
     "output_type": "stream",
     "text": [
      "/home/ubuntu/anaconda3/envs/celeba/lib/python3.8/site-packages/tqdm/auto.py:22: TqdmWarning: IProgress not found. Please update jupyter and ipywidgets. See https://ipywidgets.readthedocs.io/en/stable/user_install.html\n",
      "  from .autonotebook import tqdm as notebook_tqdm\n"
     ]
    }
   ],
   "source": [
    "# Import General Libraries\n",
    "import os\n",
    "import argparse\n",
    "import torch\n",
    "import copy\n",
    "import pickle\n",
    "import random\n",
    "import numpy as np\n",
    "import pandas as pd\n",
    "\n",
    "# Import FedEM based Libraries\n",
    "from utils.utils import *\n",
    "from utils.constants import *\n",
    "from utils.args import *\n",
    "from run_experiment import *\n",
    "from models import *\n",
    "\n",
    "# Import Transfer Attack\n",
    "from transfer_attacks.Personalized_NN import *\n",
    "from transfer_attacks.Params import *\n",
    "from transfer_attacks.Transferer import *\n",
    "from transfer_attacks.Args import *\n",
    "from transfer_attacks.TA_utils import *\n",
    "from transfer_attacks.Boundary_Transferer import *"
   ]
  },
  {
   "cell_type": "code",
   "execution_count": 2,
   "metadata": {},
   "outputs": [
    {
     "name": "stdout",
     "output_type": "stream",
     "text": [
      "==> Clients initialization..\n",
      "===> Building data iterators..\n"
     ]
    },
    {
     "name": "stderr",
     "output_type": "stream",
     "text": [
      "100%|██████████| 100/100 [00:00<00:00, 375.56it/s]\n"
     ]
    },
    {
     "name": "stdout",
     "output_type": "stream",
     "text": [
      "===> Initializing clients..\n"
     ]
    },
    {
     "name": "stderr",
     "output_type": "stream",
     "text": [
      "100%|██████████| 100/100 [00:36<00:00,  2.72it/s]\n"
     ]
    },
    {
     "name": "stdout",
     "output_type": "stream",
     "text": [
      "==> Test Clients initialization..\n",
      "===> Building data iterators..\n"
     ]
    },
    {
     "name": "stderr",
     "output_type": "stream",
     "text": [
      "0it [00:00, ?it/s]\n"
     ]
    },
    {
     "name": "stdout",
     "output_type": "stream",
     "text": [
      "===> Initializing clients..\n"
     ]
    },
    {
     "name": "stderr",
     "output_type": "stream",
     "text": [
      "0it [00:00, ?it/s]\n"
     ]
    },
    {
     "name": "stdout",
     "output_type": "stream",
     "text": [
      "++++++++++++++++++++++++++++++\n",
      "Global..\n",
      "Train Loss: 4.608 | Train Acc: 0.812% |Test Loss: 4.608 | Test Acc: 0.958% |\n",
      "++++++++++++++++++++++++++++++++++++++++++++++++++\n",
      "################################################################################\n"
     ]
    }
   ],
   "source": [
    "# Generating Empty Aggregator to be loaded \n",
    "\n",
    "setting = 'FedEM'\n",
    "\n",
    "if setting == 'FedEM':\n",
    "    nL = 3\n",
    "else:\n",
    "    nL = 1\n",
    "\n",
    "# Manually set argument parameters\n",
    "args_ = Args()\n",
    "args_.experiment = \"cifar100\"\n",
    "args_.method = setting\n",
    "args_.decentralized = False\n",
    "args_.sampling_rate = 1.0\n",
    "args_.input_dimension = None\n",
    "args_.output_dimension = None\n",
    "args_.n_learners= nL\n",
    "args_.n_rounds = 10\n",
    "args_.bz = 128\n",
    "args_.local_steps = 1\n",
    "args_.lr_lambda = 0\n",
    "args_.lr =0.03\n",
    "args_.lr_scheduler = 'multi_step'\n",
    "args_.log_freq = 10\n",
    "args_.device = 'cuda'\n",
    "args_.optimizer = 'sgd'\n",
    "args_.mu = 0\n",
    "args_.communication_probability = 0.1\n",
    "args_.q = 1\n",
    "args_.locally_tune_clients = False\n",
    "args_.seed = 1234\n",
    "args_.verbose = 1\n",
    "args_.save_path = 'weights/cifar100/fedem/'\n",
    "args_.validation = False\n",
    "args_.tune_steps = None\n",
    "\n",
    "# Generate the dummy values here\n",
    "aggregator, clients = dummy_aggregator(args_, num_user=40)"
   ]
  },
  {
   "cell_type": "code",
   "execution_count": 3,
   "metadata": {},
   "outputs": [],
   "source": [
    "# Compiling Dataset from Clients\n",
    "# Combine Validation Data across all clients as test\n",
    "data_x = []\n",
    "data_y = []\n",
    "\n",
    "for i in range(len(clients)):\n",
    "    daniloader = clients[i].test_iterator\n",
    "    for (x,y,idx) in daniloader.dataset:\n",
    "        data_x.append(x)\n",
    "        data_y.append(y)\n",
    "\n",
    "data_x = torch.stack(data_x)\n",
    "try:\n",
    "    data_y = torch.stack(data_y)        \n",
    "except:\n",
    "    data_y = torch.FloatTensor(data_y) \n",
    "    \n",
    "dataloader = Custom_Dataloader(data_x, data_y)"
   ]
  },
  {
   "cell_type": "code",
   "execution_count": 4,
   "metadata": {},
   "outputs": [],
   "source": [
    "# Import Model Weights\n",
    "num_models = 40\n",
    "\n",
    "np.set_printoptions(formatter={'float': lambda x: \"{0:0.2f}\".format(x)})\n",
    "\n",
    "if setting == 'local':\n",
    "\n",
    "#     args_.save_path = 'weights/final/femnist/fig1_take3/local_benign/'\n",
    "#     args_.save_path ='weights/final/femnist/fig1_take3/local_adv/'\n",
    "    aggregator.load_state(args_.save_path)\n",
    "    \n",
    "    model_weights = []\n",
    "#     weights = np.load(\"weights/final/femnist/fig1_take3/local_benign/train_client_weights.npy\")\n",
    "    weights = np.load(args_.save_path + 'train_client_weights.npy')\n",
    "    \n",
    "    for i in range(num_models):\n",
    "        model_weights += [weights[i]]\n",
    "\n",
    "    # Generate the weights to test on as linear combinations of the model_weights\n",
    "    models_test = []\n",
    "\n",
    "    for i in range(num_models):\n",
    "        new_model = copy.deepcopy(aggregator.clients[i].learners_ensemble.learners[0].model)\n",
    "        new_model.eval()\n",
    "        models_test += [new_model]\n",
    "\n",
    "elif setting == 'FedAvg':\n",
    "    \n",
    "#     args_.save_path = 'weights/final/femnist/fig1_take3/fedavg_benign/'\n",
    "    aggregator.load_state(args_.save_path)\n",
    "    \n",
    "    # This is where the models are stored -- one for each mixture --> learner.model for nn\n",
    "    hypotheses = aggregator.global_learners_ensemble.learners\n",
    "\n",
    "    # obtain the state dict for each of the weights \n",
    "    weights_h = []\n",
    "\n",
    "    for h in hypotheses:\n",
    "        weights_h += [h.model.state_dict()]\n",
    "\n",
    "#     weights = np.load(\"weights/final/femnist/fig1_take3/fedavg_benign/train_client_weights.npy\")\n",
    "    weights = np.load(args_.save_path + 'train_client_weights.npy')\n",
    "    \n",
    "    # Set model weights\n",
    "    model_weights = []\n",
    "\n",
    "    for i in range(num_models):\n",
    "        model_weights += [weights[i]]\n",
    "\n",
    "    # Generate the weights to test on as linear combinations of the model_weights\n",
    "    models_test = []\n",
    "\n",
    "    for (w0) in model_weights:\n",
    "        # first make the model with empty weights\n",
    "        new_model = copy.deepcopy(hypotheses[0].model)\n",
    "        new_model.eval()\n",
    "        new_weight_dict = copy.deepcopy(weights_h[0])\n",
    "        for key in weights_h[0]:\n",
    "            new_weight_dict[key] = w0[0]*weights_h[0][key] \n",
    "        new_model.load_state_dict(new_weight_dict)\n",
    "        models_test += [new_model]\n",
    "\n",
    "elif setting == 'FedEM':\n",
    "    \n",
    "#     args_.save_path = 'weights/final/femnist/fig1_take3/fedem_benign/'\n",
    "#     args_.save_path = 'weights/final/femnist/fig1_take3/fedem_adv/'\n",
    "#     args_.save_path = 'weights/final/femnist/figperturb/fedem_avg_p0_1/'\n",
    "    aggregator.load_state(args_.save_path)\n",
    "    \n",
    "    # This is where the models are stored -- one for each mixture --> learner.model for nn\n",
    "    hypotheses = aggregator.global_learners_ensemble.learners\n",
    "\n",
    "    # obtain the state dict for each of the weights \n",
    "    weights_h = []\n",
    "\n",
    "    for h in hypotheses:\n",
    "        weights_h += [h.model.state_dict()]\n",
    "\n",
    "#     weights = np.load(\"weights/final/femnist/fig1_take3/fedem_benign/train_client_weights.npy\")\n",
    "#     weights = np.load(\"weights/final/femnist/fig1_take3/fedem_adv/train_client_weights.npy\")\n",
    "    weights = np.load(args_.save_path+\"train_client_weights.npy\")\n",
    "\n",
    "    # Set model weights\n",
    "    model_weights = []\n",
    "\n",
    "    for i in range(num_models):\n",
    "        model_weights += [weights[i]]\n",
    "\n",
    "\n",
    "    # Generate the weights to test on as linear combinations of the model_weights\n",
    "    models_test = []\n",
    "\n",
    "    for (w0,w1,w2) in model_weights:\n",
    "        # first make the model with empty weights\n",
    "        new_model = copy.deepcopy(hypotheses[0].model)\n",
    "        new_model.eval()\n",
    "        new_weight_dict = copy.deepcopy(weights_h[0])\n",
    "        for key in weights_h[0]:\n",
    "            new_weight_dict[key] = w0*weights_h[0][key] + w1*weights_h[1][key] + w2*weights_h[2][key]\n",
    "        new_model.load_state_dict(new_weight_dict)\n",
    "        models_test += [new_model]"
   ]
  },
  {
   "cell_type": "code",
   "execution_count": 5,
   "metadata": {},
   "outputs": [],
   "source": [
    "# Here we will make a dictionary that will hold results\n",
    "logs_adv = []\n",
    "\n",
    "for i in range(num_models):\n",
    "    adv_dict = {}\n",
    "    adv_dict['orig_acc_transfers'] = None\n",
    "    adv_dict['orig_similarities'] = None\n",
    "    adv_dict['adv_acc_transfers'] = None\n",
    "    adv_dict['adv_similarities_target'] = None\n",
    "    adv_dict['adv_similarities_untarget'] = None\n",
    "    adv_dict['adv_target'] = None\n",
    "    adv_dict['adv_miss'] = None\n",
    "    adv_dict['metric_alignment'] = None\n",
    "    adv_dict['ib_distance_legit'] = None\n",
    "    adv_dict['ib_distance_adv'] = None\n",
    "\n",
    "    logs_adv += [adv_dict]"
   ]
  },
  {
   "cell_type": "code",
   "execution_count": 6,
   "metadata": {},
   "outputs": [
    {
     "name": "stdout",
     "output_type": "stream",
     "text": [
      "\t Adv idx: 0\n",
      "120\n",
      "self.y_data.shape torch.Size([120]) batch_size 100\n",
      "self.y_data.shape torch.Size([120]) batch_size 100\n",
      "\t Adv idx: 1\n",
      "120\n",
      "self.y_data.shape torch.Size([120]) batch_size 100\n",
      "self.y_data.shape torch.Size([120]) batch_size 100\n",
      "\t Adv idx: 2\n",
      "120\n",
      "self.y_data.shape torch.Size([120]) batch_size 100\n",
      "self.y_data.shape torch.Size([120]) batch_size 100\n",
      "\t Adv idx: 3\n",
      "120\n",
      "self.y_data.shape torch.Size([120]) batch_size 100\n",
      "self.y_data.shape torch.Size([120]) batch_size 100\n",
      "\t Adv idx: 4\n",
      "120\n",
      "self.y_data.shape torch.Size([120]) batch_size 100\n",
      "self.y_data.shape torch.Size([120]) batch_size 100\n",
      "\t Adv idx: 5\n",
      "120\n",
      "self.y_data.shape torch.Size([120]) batch_size 100\n",
      "self.y_data.shape torch.Size([120]) batch_size 100\n",
      "\t Adv idx: 6\n",
      "120\n",
      "self.y_data.shape torch.Size([120]) batch_size 100\n",
      "self.y_data.shape torch.Size([120]) batch_size 100\n",
      "\t Adv idx: 7\n",
      "120\n",
      "self.y_data.shape torch.Size([120]) batch_size 100\n",
      "self.y_data.shape torch.Size([120]) batch_size 100\n",
      "\t Adv idx: 8\n",
      "120\n",
      "self.y_data.shape torch.Size([120]) batch_size 100\n",
      "self.y_data.shape torch.Size([120]) batch_size 100\n",
      "\t Adv idx: 9\n",
      "120\n",
      "self.y_data.shape torch.Size([120]) batch_size 100\n",
      "self.y_data.shape torch.Size([120]) batch_size 100\n",
      "\t Adv idx: 10\n",
      "120\n",
      "self.y_data.shape torch.Size([120]) batch_size 100\n",
      "self.y_data.shape torch.Size([120]) batch_size 100\n",
      "\t Adv idx: 11\n",
      "120\n",
      "self.y_data.shape torch.Size([120]) batch_size 100\n",
      "self.y_data.shape torch.Size([120]) batch_size 100\n",
      "\t Adv idx: 12\n",
      "120\n",
      "self.y_data.shape torch.Size([120]) batch_size 100\n",
      "self.y_data.shape torch.Size([120]) batch_size 100\n",
      "\t Adv idx: 13\n",
      "120\n",
      "self.y_data.shape torch.Size([120]) batch_size 100\n",
      "self.y_data.shape torch.Size([120]) batch_size 100\n",
      "\t Adv idx: 14\n",
      "120\n",
      "self.y_data.shape torch.Size([120]) batch_size 100\n",
      "self.y_data.shape torch.Size([120]) batch_size 100\n",
      "\t Adv idx: 15\n",
      "120\n",
      "self.y_data.shape torch.Size([120]) batch_size 100\n",
      "self.y_data.shape torch.Size([120]) batch_size 100\n",
      "\t Adv idx: 16\n",
      "120\n",
      "self.y_data.shape torch.Size([120]) batch_size 100\n",
      "self.y_data.shape torch.Size([120]) batch_size 100\n",
      "\t Adv idx: 17\n",
      "120\n",
      "self.y_data.shape torch.Size([120]) batch_size 100\n",
      "self.y_data.shape torch.Size([120]) batch_size 100\n",
      "\t Adv idx: 18\n",
      "120\n",
      "self.y_data.shape torch.Size([120]) batch_size 100\n",
      "self.y_data.shape torch.Size([120]) batch_size 100\n",
      "\t Adv idx: 19\n",
      "120\n",
      "self.y_data.shape torch.Size([120]) batch_size 100\n",
      "self.y_data.shape torch.Size([120]) batch_size 100\n",
      "\t Adv idx: 20\n",
      "120\n",
      "self.y_data.shape torch.Size([120]) batch_size 100\n",
      "self.y_data.shape torch.Size([120]) batch_size 100\n",
      "\t Adv idx: 21\n",
      "120\n",
      "self.y_data.shape torch.Size([120]) batch_size 100\n",
      "self.y_data.shape torch.Size([120]) batch_size 100\n",
      "\t Adv idx: 22\n",
      "120\n",
      "self.y_data.shape torch.Size([120]) batch_size 100\n",
      "self.y_data.shape torch.Size([120]) batch_size 100\n",
      "\t Adv idx: 23\n",
      "120\n",
      "self.y_data.shape torch.Size([120]) batch_size 100\n",
      "self.y_data.shape torch.Size([120]) batch_size 100\n",
      "\t Adv idx: 24\n",
      "120\n",
      "self.y_data.shape torch.Size([120]) batch_size 100\n",
      "self.y_data.shape torch.Size([120]) batch_size 100\n",
      "\t Adv idx: 25\n",
      "120\n",
      "self.y_data.shape torch.Size([120]) batch_size 100\n",
      "self.y_data.shape torch.Size([120]) batch_size 100\n",
      "\t Adv idx: 26\n",
      "120\n",
      "self.y_data.shape torch.Size([120]) batch_size 100\n",
      "self.y_data.shape torch.Size([120]) batch_size 100\n",
      "\t Adv idx: 27\n",
      "120\n",
      "self.y_data.shape torch.Size([120]) batch_size 100\n",
      "self.y_data.shape torch.Size([120]) batch_size 100\n",
      "\t Adv idx: 28\n",
      "120\n",
      "self.y_data.shape torch.Size([120]) batch_size 100\n",
      "self.y_data.shape torch.Size([120]) batch_size 100\n",
      "\t Adv idx: 29\n",
      "120\n",
      "self.y_data.shape torch.Size([120]) batch_size 100\n",
      "self.y_data.shape torch.Size([120]) batch_size 100\n",
      "\t Adv idx: 30\n",
      "120\n",
      "self.y_data.shape torch.Size([120]) batch_size 100\n",
      "self.y_data.shape torch.Size([120]) batch_size 100\n",
      "\t Adv idx: 31\n",
      "120\n",
      "self.y_data.shape torch.Size([120]) batch_size 100\n",
      "self.y_data.shape torch.Size([120]) batch_size 100\n",
      "\t Adv idx: 32\n",
      "120\n",
      "self.y_data.shape torch.Size([120]) batch_size 100\n",
      "self.y_data.shape torch.Size([120]) batch_size 100\n",
      "\t Adv idx: 33\n",
      "120\n",
      "self.y_data.shape torch.Size([120]) batch_size 100\n",
      "self.y_data.shape torch.Size([120]) batch_size 100\n",
      "\t Adv idx: 34\n",
      "120\n",
      "self.y_data.shape torch.Size([120]) batch_size 100\n",
      "self.y_data.shape torch.Size([120]) batch_size 100\n",
      "\t Adv idx: 35\n",
      "120\n",
      "self.y_data.shape torch.Size([120]) batch_size 100\n",
      "self.y_data.shape torch.Size([120]) batch_size 100\n",
      "\t Adv idx: 36\n",
      "120\n",
      "self.y_data.shape torch.Size([120]) batch_size 100\n",
      "self.y_data.shape torch.Size([120]) batch_size 100\n",
      "\t Adv idx: 37\n",
      "120\n",
      "self.y_data.shape torch.Size([120]) batch_size 100\n",
      "self.y_data.shape torch.Size([120]) batch_size 100\n",
      "\t Adv idx: 38\n",
      "120\n",
      "self.y_data.shape torch.Size([120]) batch_size 100\n",
      "self.y_data.shape torch.Size([120]) batch_size 100\n",
      "\t Adv idx: 39\n",
      "120\n",
      "self.y_data.shape torch.Size([120]) batch_size 100\n",
      "self.y_data.shape torch.Size([120]) batch_size 100\n"
     ]
    }
   ],
   "source": [
    "# Perform transfer attack from one client to another and record stats\n",
    "\n",
    "# Run Measurements for both targetted and untargeted analysis\n",
    "new_num_models = len(models_test)\n",
    "victim_idxs = range(new_num_models)\n",
    "custom_batch_size = 100\n",
    "eps = 4.5\n",
    "\n",
    "\n",
    "for adv_idx in victim_idxs:\n",
    "    print(\"\\t Adv idx:\", adv_idx)\n",
    "    \n",
    "    dataloader = load_client_data(clients = clients, c_id = adv_idx, mode = 'test') # or test/train\n",
    "    \n",
    "    batch_size = min(custom_batch_size, dataloader.y_data.shape[0])\n",
    "    \n",
    "    t1 = Transferer(models_list=models_test, dataloader=dataloader)\n",
    "    t1.generate_victims(victim_idxs)\n",
    "    \n",
    "    # Perform Attacks\n",
    "    t1.atk_params = PGD_Params()\n",
    "    t1.atk_params.set_params(batch_size=batch_size, iteration = 10,\n",
    "                   target = 2, x_val_min = torch.min(data_x), x_val_max = torch.max(data_x),\n",
    "                   step_size = 0.01, step_norm = \"inf\", eps = eps, eps_norm = 2)\n",
    "    \n",
    "    \n",
    "    \n",
    "    t1.generate_advNN(adv_idx)\n",
    "    t1.generate_xadv(atk_type = \"pgd\")\n",
    "    t1.send_to_victims(victim_idxs)\n",
    "\n",
    "    # Log Performance\n",
    "    logs_adv[adv_idx]['orig_acc_transfers'] = copy.deepcopy(t1.orig_acc_transfers)\n",
    "    logs_adv[adv_idx]['orig_similarities'] = copy.deepcopy(t1.orig_similarities)\n",
    "    logs_adv[adv_idx]['adv_acc_transfers'] = copy.deepcopy(t1.adv_acc_transfers)\n",
    "    logs_adv[adv_idx]['adv_similarities_target'] = copy.deepcopy(t1.adv_similarities)        \n",
    "    logs_adv[adv_idx]['adv_target'] = copy.deepcopy(t1.adv_target_hit)\n",
    "\n",
    "    # Untargeted attack\n",
    "    t1.atk_params.set_params(batch_size=batch_size, iteration = 10,\n",
    "                   target = -1, x_val_min = torch.min(data_x), x_val_max = torch.max(data_x),\n",
    "                   step_size = 0.01, step_norm = \"inf\", eps = eps, eps_norm = 2)\n",
    "    t1.generate_xadv(atk_type = \"pgd\")\n",
    "    t1.send_to_victims(victim_idxs)\n",
    "    logs_adv[adv_idx]['adv_miss'] = copy.deepcopy(t1.adv_acc_transfers)\n",
    "    logs_adv[adv_idx]['adv_similarities_untarget'] = copy.deepcopy(t1.adv_similarities)"
   ]
  },
  {
   "cell_type": "code",
   "execution_count": 17,
   "metadata": {},
   "outputs": [],
   "source": [
    "# Aggregate Results Across clients \n",
    "metrics = ['orig_acc_transfers','orig_similarities','adv_acc_transfers','adv_similarities_target',\n",
    "           'adv_similarities_untarget','adv_target','adv_miss'] #,'metric_alignment']\n",
    "\n",
    "orig_acc = np.zeros([len(victim_idxs),len(victim_idxs)]) \n",
    "orig_sim = np.zeros([len(victim_idxs),len(victim_idxs)]) \n",
    "adv_acc = np.zeros([len(victim_idxs),len(victim_idxs)]) \n",
    "adv_sim_target = np.zeros([len(victim_idxs),len(victim_idxs)]) \n",
    "adv_sim_untarget = np.zeros([len(victim_idxs),len(victim_idxs)]) \n",
    "adv_target = np.zeros([len(victim_idxs),len(victim_idxs)])\n",
    "adv_miss = np.zeros([len(victim_idxs),len(victim_idxs)]) \n",
    "\n",
    "for adv_idx in range(len(victim_idxs)):\n",
    "    for victim in range(len(victim_idxs)):\n",
    "        orig_acc[adv_idx,victim] = logs_adv[victim_idxs[adv_idx]][metrics[0]][victim_idxs[victim]].data.tolist()\n",
    "        orig_sim[adv_idx,victim] = logs_adv[victim_idxs[adv_idx]][metrics[1]][victim_idxs[victim]].data.tolist()\n",
    "        adv_acc[adv_idx,victim] = logs_adv[victim_idxs[adv_idx]][metrics[2]][victim_idxs[victim]].data.tolist()\n",
    "        adv_sim_target[adv_idx,victim] = logs_adv[victim_idxs[adv_idx]][metrics[3]][victim_idxs[victim]].data.tolist()\n",
    "        adv_sim_untarget[adv_idx,victim] = logs_adv[victim_idxs[adv_idx]][metrics[4]][victim_idxs[victim]].data.tolist()\n",
    "        adv_target[adv_idx,victim] = logs_adv[victim_idxs[adv_idx]][metrics[5]][victim_idxs[victim]].data.tolist()\n",
    "        adv_miss[adv_idx,victim] = logs_adv[victim_idxs[adv_idx]][metrics[6]][victim_idxs[victim]].data.tolist()"
   ]
  },
  {
   "cell_type": "code",
   "execution_count": 18,
   "metadata": {},
   "outputs": [
    {
     "name": "stdout",
     "output_type": "stream",
     "text": [
      "[[0.52 0.12 0.02 0.01 0.03 0.00 0.00 0.07 0.04 0.04]\n",
      " [0.11 0.50 0.08 0.03 0.03 0.02 0.02 0.37 0.21 0.21]\n",
      " [0.11 0.21 0.44 0.26 0.24 0.20 0.22 0.21 0.16 0.16]\n",
      " [0.06 0.11 0.38 0.47 0.45 0.41 0.45 0.14 0.11 0.11]\n",
      " [0.03 0.04 0.25 0.37 0.47 0.39 0.41 0.03 0.01 0.01]\n",
      " [0.05 0.07 0.24 0.38 0.39 0.41 0.42 0.06 0.03 0.03]\n",
      " [0.02 0.02 0.17 0.36 0.29 0.42 0.41 0.02 0.02 0.02]\n",
      " [0.05 0.42 0.04 0.02 0.04 0.02 0.02 0.45 0.40 0.40]\n",
      " [0.06 0.41 0.06 0.02 0.02 0.01 0.01 0.51 0.56 0.56]\n",
      " [0.02 0.32 0.06 0.02 0.02 0.02 0.02 0.48 0.52 0.52]]\n"
     ]
    }
   ],
   "source": [
    "print(adv_target[:10, :10])"
   ]
  },
  {
   "cell_type": "code",
   "execution_count": 19,
   "metadata": {},
   "outputs": [],
   "source": [
    "def avg_nondiag(array2d):\n",
    "    d1 = array2d.shape[0]\n",
    "    d2 = array2d.shape[1]\n",
    "    \n",
    "    counter = 0\n",
    "    val = 0\n",
    "    \n",
    "    for i1 in range(d1):\n",
    "        for i2 in range(d2):\n",
    "            if i1 != i2:\n",
    "                if not np.isnan(array2d[i1,i2]):\n",
    "                    counter+=1\n",
    "                    val += array2d[i1,i2]\n",
    "    \n",
    "    return val/counter"
   ]
  },
  {
   "cell_type": "code",
   "execution_count": 20,
   "metadata": {},
   "outputs": [
    {
     "name": "stdout",
     "output_type": "stream",
     "text": [
      "adv_target: 0.20401988744090957\n",
      "adv_miss: 0.10352563844420588\n",
      "orig_acc: 0.47374998964369297\n"
     ]
    }
   ],
   "source": [
    "print('adv_target:', avg_nondiag(adv_target))\n",
    "print('adv_miss:', avg_nondiag(adv_miss))\n",
    "print('orig_acc:', np.mean(np.diagonal(orig_acc)))"
   ]
  },
  {
   "cell_type": "code",
   "execution_count": 11,
   "metadata": {},
   "outputs": [
    {
     "name": "stdout",
     "output_type": "stream",
     "text": [
      "[[0.65 0.58 0.37 0.35 0.38 0.33 0.33 0.60 0.60 0.60]\n",
      " [0.28 0.59 0.50 0.47 0.47 0.48 0.47 0.57 0.60 0.60]\n",
      " [0.44 0.38 0.44 0.44 0.41 0.40 0.41 0.43 0.43 0.43]\n",
      " [0.34 0.46 0.33 0.43 0.41 0.43 0.41 0.49 0.48 0.48]\n",
      " [0.55 0.61 0.32 0.31 0.28 0.31 0.31 0.65 0.64 0.64]\n",
      " [0.19 0.43 0.42 0.47 0.46 0.46 0.46 0.42 0.42 0.42]\n",
      " [0.22 0.57 0.55 0.60 0.56 0.62 0.61 0.62 0.65 0.65]\n",
      " [0.27 0.55 0.46 0.44 0.41 0.43 0.43 0.63 0.64 0.64]\n",
      " [0.24 0.53 0.52 0.52 0.50 0.51 0.50 0.53 0.52 0.52]\n",
      " [0.31 0.47 0.43 0.48 0.43 0.47 0.47 0.57 0.58 0.58]]\n"
     ]
    }
   ],
   "source": [
    "# Check Results\n",
    "print(orig_acc[:10,:10])"
   ]
  },
  {
   "cell_type": "code",
   "execution_count": 12,
   "metadata": {},
   "outputs": [
    {
     "name": "stdout",
     "output_type": "stream",
     "text": [
      "[[0.29 0.46 0.33 0.26 0.31 0.24 0.24 0.44 0.47 0.47]\n",
      " [0.17 0.24 0.38 0.40 0.38 0.39 0.39 0.31 0.40 0.40]\n",
      " [0.34 0.31 0.19 0.23 0.24 0.25 0.25 0.30 0.36 0.36]\n",
      " [0.25 0.29 0.20 0.14 0.16 0.15 0.15 0.28 0.32 0.32]\n",
      " [0.43 0.47 0.16 0.14 0.13 0.13 0.12 0.50 0.54 0.54]\n",
      " [0.15 0.28 0.26 0.18 0.20 0.16 0.17 0.33 0.36 0.36]\n",
      " [0.19 0.48 0.37 0.25 0.28 0.22 0.22 0.52 0.53 0.53]\n",
      " [0.22 0.29 0.33 0.37 0.29 0.35 0.35 0.27 0.27 0.27]\n",
      " [0.20 0.23 0.37 0.48 0.43 0.43 0.45 0.16 0.14 0.14]\n",
      " [0.28 0.22 0.35 0.38 0.36 0.38 0.40 0.20 0.19 0.19]]\n"
     ]
    }
   ],
   "source": [
    "print(adv_acc[:10, :10])"
   ]
  },
  {
   "cell_type": "code",
   "execution_count": 13,
   "metadata": {},
   "outputs": [
    {
     "name": "stdout",
     "output_type": "stream",
     "text": [
      "[[0.02 0.15 0.13 0.16 0.11 0.18 0.18 0.20 0.26 0.26]\n",
      " [0.05 0.01 0.11 0.26 0.19 0.27 0.26 0.01 0.03 0.03]\n",
      " [0.13 0.08 0.01 0.03 0.03 0.02 0.03 0.09 0.11 0.11]\n",
      " [0.13 0.18 0.01 0.00 0.00 0.00 0.00 0.19 0.20 0.20]\n",
      " [0.20 0.18 0.02 0.01 0.01 0.01 0.01 0.27 0.35 0.35]\n",
      " [0.10 0.13 0.04 0.01 0.01 0.01 0.01 0.18 0.22 0.22]\n",
      " [0.08 0.16 0.01 0.00 0.00 0.00 0.00 0.23 0.24 0.24]\n",
      " [0.05 0.01 0.09 0.14 0.10 0.16 0.14 0.00 0.01 0.01]\n",
      " [0.06 0.00 0.08 0.21 0.24 0.26 0.27 0.00 0.00 0.00]\n",
      " [0.14 0.02 0.08 0.21 0.25 0.24 0.24 0.02 0.01 0.01]]\n"
     ]
    }
   ],
   "source": [
    "print(adv_miss[:10, :10])"
   ]
  },
  {
   "cell_type": "code",
   "execution_count": 14,
   "metadata": {},
   "outputs": [],
   "source": [
    "method = 'adv'"
   ]
  },
  {
   "cell_type": "code",
   "execution_count": 15,
   "metadata": {},
   "outputs": [
    {
     "data": {
      "text/plain": [
       "'FedEM'"
      ]
     },
     "execution_count": 15,
     "metadata": {},
     "output_type": "execute_result"
    }
   ],
   "source": [
    "setting"
   ]
  },
  {
   "cell_type": "code",
   "execution_count": 16,
   "metadata": {},
   "outputs": [
    {
     "ename": "FileNotFoundError",
     "evalue": "[Errno 2] No such file or directory: 'results_celeba/adv/FedEM_orig_acc_transfers.npy'",
     "output_type": "error",
     "traceback": [
      "\u001b[0;31m---------------------------------------------------------------------------\u001b[0m",
      "\u001b[0;31mFileNotFoundError\u001b[0m                         Traceback (most recent call last)",
      "\u001b[0;32m<ipython-input-16-af4a8685eb3f>\u001b[0m in \u001b[0;36m<module>\u001b[0;34m\u001b[0m\n\u001b[0;32m----> 1\u001b[0;31m \u001b[0mnp\u001b[0m\u001b[0;34m.\u001b[0m\u001b[0msave\u001b[0m\u001b[0;34m(\u001b[0m\u001b[0;34mf'results_celeba/{method}/{setting}_orig_acc_transfers'\u001b[0m\u001b[0;34m,\u001b[0m \u001b[0morig_acc\u001b[0m\u001b[0;34m)\u001b[0m\u001b[0;34m\u001b[0m\u001b[0;34m\u001b[0m\u001b[0m\n\u001b[0m\u001b[1;32m      2\u001b[0m \u001b[0mnp\u001b[0m\u001b[0;34m.\u001b[0m\u001b[0msave\u001b[0m\u001b[0;34m(\u001b[0m\u001b[0;34mf'results_celeba/{method}/{setting}_orig_similarities'\u001b[0m\u001b[0;34m,\u001b[0m \u001b[0morig_sim\u001b[0m\u001b[0;34m)\u001b[0m\u001b[0;34m\u001b[0m\u001b[0;34m\u001b[0m\u001b[0m\n\u001b[1;32m      3\u001b[0m \u001b[0mnp\u001b[0m\u001b[0;34m.\u001b[0m\u001b[0msave\u001b[0m\u001b[0;34m(\u001b[0m\u001b[0;34mf'results_celeba/{method}/{setting}_adv_acc_transfers'\u001b[0m\u001b[0;34m,\u001b[0m \u001b[0madv_acc\u001b[0m\u001b[0;34m)\u001b[0m\u001b[0;34m\u001b[0m\u001b[0;34m\u001b[0m\u001b[0m\n\u001b[1;32m      4\u001b[0m \u001b[0mnp\u001b[0m\u001b[0;34m.\u001b[0m\u001b[0msave\u001b[0m\u001b[0;34m(\u001b[0m\u001b[0;34mf'results_celeba/{method}/{setting}_adv_similarities_target'\u001b[0m\u001b[0;34m,\u001b[0m \u001b[0madv_sim_target\u001b[0m\u001b[0;34m)\u001b[0m\u001b[0;34m\u001b[0m\u001b[0;34m\u001b[0m\u001b[0m\n\u001b[1;32m      5\u001b[0m \u001b[0mnp\u001b[0m\u001b[0;34m.\u001b[0m\u001b[0msave\u001b[0m\u001b[0;34m(\u001b[0m\u001b[0;34mf'results_celeba/{method}/{setting}_adv_similarities_untarget'\u001b[0m\u001b[0;34m,\u001b[0m \u001b[0madv_sim_untarget\u001b[0m\u001b[0;34m)\u001b[0m\u001b[0;34m\u001b[0m\u001b[0;34m\u001b[0m\u001b[0m\n",
      "\u001b[0;32m<__array_function__ internals>\u001b[0m in \u001b[0;36msave\u001b[0;34m(*args, **kwargs)\u001b[0m\n",
      "\u001b[0;32m~/anaconda3/envs/celeba/lib/python3.8/site-packages/numpy/lib/npyio.py\u001b[0m in \u001b[0;36msave\u001b[0;34m(file, arr, allow_pickle, fix_imports)\u001b[0m\n\u001b[1;32m    523\u001b[0m         \u001b[0;32mif\u001b[0m \u001b[0;32mnot\u001b[0m \u001b[0mfile\u001b[0m\u001b[0;34m.\u001b[0m\u001b[0mendswith\u001b[0m\u001b[0;34m(\u001b[0m\u001b[0;34m'.npy'\u001b[0m\u001b[0;34m)\u001b[0m\u001b[0;34m:\u001b[0m\u001b[0;34m\u001b[0m\u001b[0;34m\u001b[0m\u001b[0m\n\u001b[1;32m    524\u001b[0m             \u001b[0mfile\u001b[0m \u001b[0;34m=\u001b[0m \u001b[0mfile\u001b[0m \u001b[0;34m+\u001b[0m \u001b[0;34m'.npy'\u001b[0m\u001b[0;34m\u001b[0m\u001b[0;34m\u001b[0m\u001b[0m\n\u001b[0;32m--> 525\u001b[0;31m         \u001b[0mfile_ctx\u001b[0m \u001b[0;34m=\u001b[0m \u001b[0mopen\u001b[0m\u001b[0;34m(\u001b[0m\u001b[0mfile\u001b[0m\u001b[0;34m,\u001b[0m \u001b[0;34m\"wb\"\u001b[0m\u001b[0;34m)\u001b[0m\u001b[0;34m\u001b[0m\u001b[0;34m\u001b[0m\u001b[0m\n\u001b[0m\u001b[1;32m    526\u001b[0m \u001b[0;34m\u001b[0m\u001b[0m\n\u001b[1;32m    527\u001b[0m     \u001b[0;32mwith\u001b[0m \u001b[0mfile_ctx\u001b[0m \u001b[0;32mas\u001b[0m \u001b[0mfid\u001b[0m\u001b[0;34m:\u001b[0m\u001b[0;34m\u001b[0m\u001b[0;34m\u001b[0m\u001b[0m\n",
      "\u001b[0;31mFileNotFoundError\u001b[0m: [Errno 2] No such file or directory: 'results_celeba/adv/FedEM_orig_acc_transfers.npy'"
     ]
    }
   ],
   "source": [
    "np.save(f'results_celeba/{method}/{setting}_orig_acc_transfers', orig_acc)\n",
    "np.save(f'results_celeba/{method}/{setting}_orig_similarities', orig_sim)\n",
    "np.save(f'results_celeba/{method}/{setting}_adv_acc_transfers', adv_acc)\n",
    "np.save(f'results_celeba/{method}/{setting}_adv_similarities_target', adv_sim_target)\n",
    "np.save(f'results_celeba/{method}/{setting}_adv_similarities_untarget', adv_sim_untarget)\n",
    "np.save(f'results_celeba/{method}/{setting}_adv_target', adv_target)\n",
    "np.save(f'results_celeba/{method}/{setting}_adv_miss', adv_miss)"
   ]
  },
  {
   "cell_type": "code",
   "execution_count": null,
   "metadata": {},
   "outputs": [],
   "source": [
    "np.save(f'results_celeba_prop/no_prop_orig_acc_transfers', orig_acc)\n",
    "np.save(f'results_celeba_prop/no_prop_orig_similarities', orig_sim)\n",
    "np.save(f'results_celeba_prop/no_prop_adv_acc_transfers', adv_acc)\n",
    "np.save(f'results_celeba_prop/no_prop_adv_similarities_target', adv_sim_target)\n",
    "np.save(f'results_celeba_prop/no_prop_adv_similarities_untarget', adv_sim_untarget)\n",
    "np.save(f'results_celeba_prop/no_prop_adv_target', adv_target)\n",
    "np.save(f'results_celeba_prop/no_prop_adv_miss', adv_miss)"
   ]
  },
  {
   "cell_type": "code",
   "execution_count": null,
   "metadata": {},
   "outputs": [],
   "source": [
    "print('orig_acc:', np.mean(np.diagonal(orig_acc)))\n",
    "print('adv_miss:', avg_nondiag(adv_miss))\n",
    "print('adv_target:', avg_nondiag(adv_target))"
   ]
  },
  {
   "cell_type": "code",
   "execution_count": null,
   "metadata": {},
   "outputs": [],
   "source": []
  }
 ],
 "metadata": {
  "kernelspec": {
   "display_name": "celeba",
   "language": "python",
   "name": "celeba"
  },
  "language_info": {
   "codemirror_mode": {
    "name": "ipython",
    "version": 3
   },
   "file_extension": ".py",
   "mimetype": "text/x-python",
   "name": "python",
   "nbconvert_exporter": "python",
   "pygments_lexer": "ipython3",
   "version": "3.8.5"
  }
 },
 "nbformat": 4,
 "nbformat_minor": 4
}
