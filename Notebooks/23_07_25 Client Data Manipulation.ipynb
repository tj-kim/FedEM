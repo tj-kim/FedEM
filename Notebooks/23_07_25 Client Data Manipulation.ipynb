{
 "cells": [
  {
   "cell_type": "code",
   "execution_count": 129,
   "metadata": {},
   "outputs": [
    {
     "name": "stdout",
     "output_type": "stream",
     "text": [
      "/home/ubuntu/FedEM\n"
     ]
    }
   ],
   "source": [
    "cd /home/ubuntu/FedEM/"
   ]
  },
  {
   "cell_type": "code",
   "execution_count": 130,
   "metadata": {},
   "outputs": [],
   "source": [
    "\n",
    "from utils.utils import *\n",
    "from utils.constants import *\n",
    "from utils.args import *\n",
    "from run_experiment import * \n",
    "\n",
    "from torch.utils.tensorboard import SummaryWriter\n",
    "\n",
    "# Import General Libraries\n",
    "import os\n",
    "import argparse\n",
    "import torch\n",
    "import copy\n",
    "import pickle\n",
    "import random\n",
    "import numpy as np\n",
    "import pandas as pd\n",
    "from models import *\n",
    "\n",
    "# Import Transfer Attack\n",
    "from transfer_attacks.Personalized_NN import *\n",
    "from transfer_attacks.Params import *\n",
    "from transfer_attacks.Transferer import *\n",
    "from transfer_attacks.Args import *\n",
    "from transfer_attacks.TA_utils import *\n",
    "\n",
    "import numba \n",
    "import matplotlib\n"
   ]
  },
  {
   "cell_type": "code",
   "execution_count": 138,
   "metadata": {},
   "outputs": [
    {
     "name": "stdout",
     "output_type": "stream",
     "text": [
      "==> Clients initialization..\n",
      "===> Building data iterators..\n"
     ]
    },
    {
     "name": "stderr",
     "output_type": "stream",
     "text": [
      "100%|███████████████████████████████████████████████████████████████████████████████████████████████████████████████████████████████████████████████████████████████████████████| 100/100 [00:00<00:00, 174.43it/s]\n"
     ]
    },
    {
     "name": "stdout",
     "output_type": "stream",
     "text": [
      "===> Initializing clients..\n"
     ]
    },
    {
     "name": "stderr",
     "output_type": "stream",
     "text": [
      "100%|████████████████████████████████████████████████████████████████████████████████████████████████████████████████████████████████████████████████████████████████████████████| 100/100 [00:16<00:00,  6.03it/s]\n"
     ]
    },
    {
     "name": "stdout",
     "output_type": "stream",
     "text": [
      "==> Test Clients initialization..\n",
      "===> Building data iterators..\n"
     ]
    },
    {
     "name": "stderr",
     "output_type": "stream",
     "text": [
      "0it [00:00, ?it/s]\n"
     ]
    },
    {
     "name": "stdout",
     "output_type": "stream",
     "text": [
      "===> Initializing clients..\n"
     ]
    },
    {
     "name": "stderr",
     "output_type": "stream",
     "text": [
      "0it [00:00, ?it/s]\n"
     ]
    },
    {
     "name": "stdout",
     "output_type": "stream",
     "text": [
      "++++++++++++++++++++++++++++++\n",
      "Global..\n",
      "Train Loss: 4.611 | Train Acc: 1.100% |Test Loss: 4.608 | Test Acc: 1.250% |\n",
      "++++++++++++++++++++++++++++++++++++++++++++++++++\n",
      "################################################################################\n"
     ]
    }
   ],
   "source": [
    "# Generating Empty Aggregator to be loaded \n",
    "\n",
    "setting = 'FedAvg'\n",
    "\n",
    "if setting == 'FedEM':\n",
    "    nL = 3\n",
    "else:\n",
    "    nL = 1\n",
    "\n",
    "# Manually set argument parameters\n",
    "args_ = Args()\n",
    "args_.experiment = \"cifar100\"\n",
    "args_.method = setting\n",
    "args_.decentralized = False\n",
    "args_.sampling_rate = 1.0\n",
    "args_.input_dimension = None\n",
    "args_.output_dimension = None\n",
    "args_.n_learners= nL\n",
    "args_.n_rounds = 10\n",
    "args_.bz = 128\n",
    "args_.local_steps = 1\n",
    "args_.lr_lambda = 0\n",
    "args_.lr =0.01\n",
    "args_.lr_scheduler = 'multi_step'\n",
    "args_.log_freq = 10\n",
    "args_.device = 'cuda'\n",
    "args_.optimizer = 'sgd'\n",
    "args_.mu = 0\n",
    "args_.communication_probability = 0.1\n",
    "args_.q = 1\n",
    "args_.locally_tune_clients = False\n",
    "args_.seed = 1234\n",
    "args_.verbose = 1\n",
    "args_.save_path = 'weights/cifar/dummy/'\n",
    "args_.validation = False\n",
    "\n",
    "# Generate the dummy values here\n",
    "aggregator, clients = dummy_aggregator(args_, num_user=20)"
   ]
  },
  {
   "cell_type": "code",
   "execution_count": 139,
   "metadata": {},
   "outputs": [],
   "source": [
    "num_records = []\n",
    "for c in clients:\n",
    "    num_records+=[c.train_iterator.dataset.targets.shape[0]]"
   ]
  },
  {
   "cell_type": "code",
   "execution_count": 140,
   "metadata": {},
   "outputs": [
    {
     "data": {
      "image/png": "[encoded data removed]",
      "text/plain": [
       "<Figure size 432x288 with 1 Axes>"
      ]
     },
     "metadata": {
      "needs_background": "light"
     },
     "output_type": "display_data"
    },
    {
     "data": {
      "image/png": "[encoded data removed]",
      "text/plain": [
       "<Figure size 432x288 with 1 Axes>"
      ]
     },
     "metadata": {
      "needs_background": "light"
     },
     "output_type": "display_data"
    }
   ],
   "source": [
    "import numpy as np\n",
    "import matplotlib.pyplot as plt\n",
    "\n",
    "# Sample data (replace this with your actual list of values)\n",
    "data = num_records\n",
    "\n",
    "# Plotting histogram\n",
    "plt.hist(data, bins=10, density=True, edgecolor='black')\n",
    "plt.xlabel('Values')\n",
    "plt.ylabel('Frequency (Probability Density)')\n",
    "plt.title('Histogram of Data')\n",
    "plt.show()\n",
    "\n",
    "# Alternatively, plot density plot (kernel density estimation)\n",
    "plt.figure()\n",
    "plt.hist(data, bins=10, density=True, alpha=0.6, color='blue', edgecolor='black')\n",
    "plt.plot(np.linspace(min(data), max(data), 100), \n",
    "         np.exp(-0.5*((np.linspace(min(data), max(data), 100) - np.mean(data)) / np.std(data))**2) / (np.std(data) * np.sqrt(2 * np.pi)),\n",
    "         label='Kernel Density Estimation', color='red')\n",
    "plt.xlabel('Values')\n",
    "plt.ylabel('Density')\n",
    "plt.title('Density Plot of Data')\n",
    "plt.legend()\n",
    "plt.show()\n"
   ]
  },
  {
   "cell_type": "code",
   "execution_count": 141,
   "metadata": {},
   "outputs": [
    {
     "data": {
      "text/plain": [
       "15360"
      ]
     },
     "execution_count": 141,
     "metadata": {},
     "output_type": "execute_result"
    }
   ],
   "source": [
    "np.sum(data)"
   ]
  },
  {
   "cell_type": "code",
   "execution_count": 142,
   "metadata": {},
   "outputs": [
    {
     "data": {
      "text/plain": [
       "[480,\n",
       " 1920,\n",
       " 480,\n",
       " 1920,\n",
       " 480,\n",
       " 480,\n",
       " 480,\n",
       " 480,\n",
       " 480,\n",
       " 480,\n",
       " 480,\n",
       " 1920,\n",
       " 480,\n",
       " 480,\n",
       " 480,\n",
       " 480,\n",
       " 480,\n",
       " 480,\n",
       " 480,\n",
       " 1920]"
      ]
     },
     "execution_count": 142,
     "metadata": {},
     "output_type": "execute_result"
    }
   ],
   "source": [
    "data"
   ]
  },
  {
   "cell_type": "code",
   "execution_count": 117,
   "metadata": {},
   "outputs": [],
   "source": [
    "reward_threshold = 0.00\n",
    "\n",
    "participant_file = \"/home/ubuntu/FedEM/distmec_participant_pkls/23_07_27_participant_array_40c_hard0.pkl\"\n",
    "# participant_file = \"/home/ubuntu/FedEM/distmec_participant_pkls/23_07_27_participant_array_40c_4.pkl\"\n",
    "\n",
    "\n",
    "with open(participant_file, \"rb\") as tf:\n",
    "    loaded_dict = pickle.load(tf)\n",
    "\n",
    "participant_list = []\n",
    "participant_list += [loaded_dict['Users_w_sa']]\n",
    "participant_list += [loaded_dict['Users_rsv_sa']]\n",
    "participant_list += [loaded_dict['GoT_Users_sa']]\n",
    "\n",
    "itts = [0,1,2]\n",
    "record_uw = []\n",
    "record_rsv = []\n",
    "record_got = []\n",
    "total_rec = [record_uw, record_rsv, record_got]\n",
    "\n",
    "for t in range(40,500):\n",
    "    for itt in itts:\n",
    "        participant_sub = participant_list[itt][:,t]\n",
    "        participant_id = np.where(participant_sub > reward_threshold)[0]\n",
    "        total_rec[itt] += [len(participant_id)]"
   ]
  },
  {
   "cell_type": "code",
   "execution_count": 118,
   "metadata": {},
   "outputs": [
    {
     "data": {
      "text/plain": [
       "6.593478260869565"
      ]
     },
     "execution_count": 118,
     "metadata": {},
     "output_type": "execute_result"
    }
   ],
   "source": [
    "np.mean(record_uw)"
   ]
  },
  {
   "cell_type": "code",
   "execution_count": 119,
   "metadata": {},
   "outputs": [
    {
     "data": {
      "text/plain": [
       "19.504347826086956"
      ]
     },
     "execution_count": 119,
     "metadata": {},
     "output_type": "execute_result"
    }
   ],
   "source": [
    "np.mean(record_rsv)"
   ]
  },
  {
   "cell_type": "code",
   "execution_count": 120,
   "metadata": {},
   "outputs": [
    {
     "data": {
      "text/plain": [
       "6.515217391304348"
      ]
     },
     "execution_count": 120,
     "metadata": {},
     "output_type": "execute_result"
    }
   ],
   "source": [
    "np.mean(record_got)"
   ]
  },
  {
   "cell_type": "code",
   "execution_count": 102,
   "metadata": {},
   "outputs": [],
   "source": [
    "itt = 1\n",
    "for t in range(40,500):\n",
    "    participant_sub = participant_list[itt][:,t]\n",
    "    participant_id = np.where(participant_sub > reward_threshold)[0]\n",
    "    total_rec[itt] += [len(participant_id)]"
   ]
  },
  {
   "cell_type": "code",
   "execution_count": 103,
   "metadata": {},
   "outputs": [
    {
     "data": {
      "text/plain": [
       "array([0.00000000e+00, 2.69090909e-06, 0.00000000e+00, 9.52736800e-01,\n",
       "       6.86370500e-01, 0.00000000e+00, 4.08185900e-01, 0.00000000e+00,\n",
       "       0.00000000e+00, 3.72731000e-01, 0.00000000e+00, 0.00000000e+00,\n",
       "       5.00914100e-01, 0.00000000e+00, 0.00000000e+00, 0.00000000e+00,\n",
       "       9.48191300e-01, 0.00000000e+00, 6.03642400e-01, 3.48185300e-01,\n",
       "       0.00000000e+00, 5.45460000e-01, 8.05462600e-01, 0.00000000e+00,\n",
       "       0.00000000e+00, 4.25454545e-06, 4.40000000e-06, 4.99095900e-01,\n",
       "       5.79096700e-01, 1.00001000e+00, 3.09090909e-06, 4.25458800e-01,\n",
       "       6.32733600e-01, 6.23642600e-01, 0.00000000e+00, 3.05457600e-01,\n",
       "       0.00000000e+00, 0.00000000e+00, 0.00000000e+00, 9.78191600e-01])"
      ]
     },
     "execution_count": 103,
     "metadata": {},
     "output_type": "execute_result"
    }
   ],
   "source": [
    "participant_sub"
   ]
  },
  {
   "cell_type": "code",
   "execution_count": null,
   "metadata": {},
   "outputs": [],
   "source": []
  }
 ],
 "metadata": {
  "kernelspec": {
   "display_name": "FedEM_env",
   "language": "python",
   "name": "fedem_env"
  },
  "language_info": {
   "codemirror_mode": {
    "name": "ipython",
    "version": 3
   },
   "file_extension": ".py",
   "mimetype": "text/x-python",
   "name": "python",
   "nbconvert_exporter": "python",
   "pygments_lexer": "ipython3",
   "version": "3.9.6"
  }
 },
 "nbformat": 4,
 "nbformat_minor": 4
}
