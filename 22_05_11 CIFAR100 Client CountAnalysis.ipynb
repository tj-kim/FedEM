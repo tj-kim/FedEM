{
 "cells": [
  {
   "cell_type": "code",
   "execution_count": 1,
   "metadata": {},
   "outputs": [
    {
     "name": "stdout",
     "output_type": "stream",
     "text": [
      "[Errno 2] No such file or directory: '/home/ubuntu/FedEM/'\n",
      "/home/ubuntu/code/FedEM\n"
     ]
    }
   ],
   "source": [
    "cd /home/ubuntu/FedEM/"
   ]
  },
  {
   "cell_type": "code",
   "execution_count": 2,
   "metadata": {},
   "outputs": [
    {
     "name": "stderr",
     "output_type": "stream",
     "text": [
      "/home/ubuntu/anaconda3/envs/celeba/lib/python3.8/site-packages/tqdm/auto.py:22: TqdmWarning: IProgress not found. Please update jupyter and ipywidgets. See https://ipywidgets.readthedocs.io/en/stable/user_install.html\n",
      "  from .autonotebook import tqdm as notebook_tqdm\n"
     ]
    }
   ],
   "source": [
    "# Import General Libraries\n",
    "import os\n",
    "import argparse\n",
    "import torch\n",
    "import copy\n",
    "import pickle\n",
    "import random\n",
    "import numpy as np\n",
    "import pandas as pd\n",
    "\n",
    "# Import FedEM based Libraries\n",
    "from utils.utils import *\n",
    "from utils.constants import *\n",
    "from utils.args import *\n",
    "from torch.utils.tensorboard import SummaryWriter\n",
    "from run_experiment import *\n",
    "from models import *\n",
    "\n",
    "# Import Transfer Attack\n",
    "from transfer_attacks.Personalized_NN import *\n",
    "from transfer_attacks.Params import *\n",
    "from transfer_attacks.Transferer import *\n",
    "from transfer_attacks.Args import *\n",
    "\n",
    "from transfer_attacks.TA_utils import *\n",
    "from transfer_attacks.Boundary_Transferer import *"
   ]
  },
  {
   "cell_type": "code",
   "execution_count": 3,
   "metadata": {},
   "outputs": [
    {
     "name": "stdout",
     "output_type": "stream",
     "text": [
      "==> Clients initialization..\n",
      "===> Building data iterators..\n"
     ]
    },
    {
     "name": "stderr",
     "output_type": "stream",
     "text": [
      "100%|██████████| 100/100 [00:00<00:00, 379.69it/s]\n"
     ]
    },
    {
     "name": "stdout",
     "output_type": "stream",
     "text": [
      "===> Initializing clients..\n"
     ]
    },
    {
     "name": "stderr",
     "output_type": "stream",
     "text": [
      "100%|██████████| 100/100 [00:33<00:00,  3.01it/s]\n"
     ]
    },
    {
     "name": "stdout",
     "output_type": "stream",
     "text": [
      "==> Test Clients initialization..\n",
      "===> Building data iterators..\n"
     ]
    },
    {
     "name": "stderr",
     "output_type": "stream",
     "text": [
      "0it [00:00, ?it/s]\n"
     ]
    },
    {
     "name": "stdout",
     "output_type": "stream",
     "text": [
      "===> Initializing clients..\n"
     ]
    },
    {
     "name": "stderr",
     "output_type": "stream",
     "text": [
      "0it [00:00, ?it/s]\n"
     ]
    },
    {
     "name": "stdout",
     "output_type": "stream",
     "text": [
      "++++++++++++++++++++++++++++++\n",
      "Global..\n",
      "Train Loss: 4.612 | Train Acc: 1.115% |Test Loss: 4.615 | Test Acc: 1.167% |\n",
      "++++++++++++++++++++++++++++++++++++++++++++++++++\n",
      "################################################################################\n"
     ]
    }
   ],
   "source": [
    "# Manually set argument parameters\n",
    "args_ = Args()\n",
    "args_.experiment = \"cifar100\"\n",
    "args_.method = \"FedAvg_adv\"\n",
    "args_.decentralized = False\n",
    "args_.sampling_rate = 1.0\n",
    "args_.input_dimension = None\n",
    "args_.output_dimension = None\n",
    "args_.n_learners= 1\n",
    "args_.n_rounds = 10\n",
    "args_.bz = 128\n",
    "args_.local_steps = 1\n",
    "args_.lr_lambda = 0\n",
    "args_.lr =0.03\n",
    "args_.lr_scheduler = 'multi_step'\n",
    "args_.log_freq = 10\n",
    "args_.device = 'cuda'\n",
    "args_.optimizer = 'sgd'\n",
    "args_.mu = 0\n",
    "args_.communication_probability = 0.1\n",
    "args_.q = 1\n",
    "args_.locally_tune_clients = False\n",
    "args_.seed = 1234\n",
    "args_.verbose = 1\n",
    "args_.save_path = '/home/ubuntu/code/FedEM/weights/cifar100/client_count/'\n",
    "args_.validation = False\n",
    "args_.num_user = 40\n",
    "\n",
    "# Generate the dummy values here\n",
    "aggregator, clients = dummy_aggregator(args_, num_user=args_.num_user)"
   ]
  },
  {
   "cell_type": "code",
   "execution_count": 4,
   "metadata": {},
   "outputs": [],
   "source": [
    "# Combine Validation Data across all clients as test\n",
    "data_x = []\n",
    "data_y = []\n",
    "\n",
    "for i in range(len(clients)):\n",
    "    daniloader = clients[i].val_iterator\n",
    "    for (x,y,idx) in daniloader.dataset:\n",
    "        data_x.append(x)\n",
    "        data_y.append(y)\n",
    "\n",
    "data_x = torch.stack(data_x)\n",
    "data_y = torch.stack(data_y)\n",
    "\n",
    "# Create dataloader from validation dataset that allows for diverse batch size\n",
    "dataloader = Custom_Dataloader(data_x, data_y)"
   ]
  },
  {
   "cell_type": "code",
   "execution_count": 5,
   "metadata": {},
   "outputs": [],
   "source": [
    "exp_names = ['/home/ubuntu/code/FedEM/weights/cifar100/client_count/FedAvg_adv/c5/',\n",
    "             '/home/ubuntu/code/FedEM/weights/cifar100/client_count/FedAvg_adv/c10/',\n",
    "             '/home/ubuntu/code/FedEM/weights/cifar100/client_count/FedAvg_adv/c20/',\n",
    "             '/home/ubuntu/code/FedEM/weights/cifar100/client_count/FedAvg_adv/c30/',\n",
    "             '/home/ubuntu/code/FedEM/weights/cifar100/client_count/FedAvg_adv/c40/',\n",
    "            ]\n",
    "\n",
    "# exp_names = ['/home/ubuntu/code/FedEM/weights/cifar100/client_count/c50/']\n",
    "\n",
    "train_item = 'train_client_weights.npy'\n",
    "\n",
    "cc = [5,10,20,30,40]\n",
    "# cc = [50]"
   ]
  },
  {
   "cell_type": "code",
   "execution_count": 6,
   "metadata": {},
   "outputs": [
    {
     "name": "stdout",
     "output_type": "stream",
     "text": [
      "==> Clients initialization..\n",
      "===> Building data iterators..\n"
     ]
    },
    {
     "name": "stderr",
     "output_type": "stream",
     "text": [
      "100%|██████████| 100/100 [00:00<00:00, 534.69it/s]\n"
     ]
    },
    {
     "name": "stdout",
     "output_type": "stream",
     "text": [
      "===> Initializing clients..\n"
     ]
    },
    {
     "name": "stderr",
     "output_type": "stream",
     "text": [
      "100%|██████████| 100/100 [00:29<00:00,  3.43it/s]\n"
     ]
    },
    {
     "name": "stdout",
     "output_type": "stream",
     "text": [
      "==> Test Clients initialization..\n",
      "===> Building data iterators..\n"
     ]
    },
    {
     "name": "stderr",
     "output_type": "stream",
     "text": [
      "0it [00:00, ?it/s]\n"
     ]
    },
    {
     "name": "stdout",
     "output_type": "stream",
     "text": [
      "===> Initializing clients..\n"
     ]
    },
    {
     "name": "stderr",
     "output_type": "stream",
     "text": [
      "0it [00:00, ?it/s]\n"
     ]
    },
    {
     "name": "stdout",
     "output_type": "stream",
     "text": [
      "++++++++++++++++++++++++++++++\n",
      "Global..\n",
      "Train Loss: 4.602 | Train Acc: 1.125% |Test Loss: 4.605 | Test Acc: 1.833% |\n",
      "++++++++++++++++++++++++++++++++++++++++++++++++++\n",
      "################################################################################\n",
      "processing file /home/ubuntu/code/FedEM/weights/cifar100/client_count/FedAvg_adv/c5/ ...\n",
      "\t Adv idx: 0\n",
      "120\n",
      "self.y_data.shape torch.Size([120]) batch_size 100\n",
      "self.y_data.shape torch.Size([120]) batch_size 100\n",
      "\t Adv idx: 1\n",
      "120\n",
      "self.y_data.shape torch.Size([120]) batch_size 100\n",
      "self.y_data.shape torch.Size([120]) batch_size 100\n",
      "\t Adv idx: 2\n",
      "120\n",
      "self.y_data.shape torch.Size([120]) batch_size 100\n",
      "self.y_data.shape torch.Size([120]) batch_size 100\n",
      "\t Adv idx: 3\n",
      "120\n",
      "self.y_data.shape torch.Size([120]) batch_size 100\n",
      "self.y_data.shape torch.Size([120]) batch_size 100\n",
      "\t Adv idx: 4\n",
      "120\n",
      "self.y_data.shape torch.Size([120]) batch_size 100\n",
      "self.y_data.shape torch.Size([120]) batch_size 100\n",
      "==> Clients initialization..\n",
      "===> Building data iterators..\n"
     ]
    },
    {
     "name": "stderr",
     "output_type": "stream",
     "text": [
      "100%|██████████| 100/100 [00:00<00:00, 337.23it/s]\n"
     ]
    },
    {
     "name": "stdout",
     "output_type": "stream",
     "text": [
      "===> Initializing clients..\n"
     ]
    },
    {
     "name": "stderr",
     "output_type": "stream",
     "text": [
      "100%|██████████| 100/100 [00:29<00:00,  3.40it/s]\n"
     ]
    },
    {
     "name": "stdout",
     "output_type": "stream",
     "text": [
      "==> Test Clients initialization..\n",
      "===> Building data iterators..\n"
     ]
    },
    {
     "name": "stderr",
     "output_type": "stream",
     "text": [
      "0it [00:00, ?it/s]\n"
     ]
    },
    {
     "name": "stdout",
     "output_type": "stream",
     "text": [
      "===> Initializing clients..\n"
     ]
    },
    {
     "name": "stderr",
     "output_type": "stream",
     "text": [
      "0it [00:00, ?it/s]\n"
     ]
    },
    {
     "name": "stdout",
     "output_type": "stream",
     "text": [
      "++++++++++++++++++++++++++++++\n",
      "Global..\n",
      "Train Loss: 4.611 | Train Acc: 1.021% |Test Loss: 4.609 | Test Acc: 1.500% |\n",
      "++++++++++++++++++++++++++++++++++++++++++++++++++\n",
      "################################################################################\n",
      "processing file /home/ubuntu/code/FedEM/weights/cifar100/client_count/FedAvg_adv/c10/ ...\n",
      "\t Adv idx: 0\n",
      "120\n",
      "self.y_data.shape torch.Size([120]) batch_size 100\n",
      "self.y_data.shape torch.Size([120]) batch_size 100\n",
      "\t Adv idx: 1\n",
      "120\n",
      "self.y_data.shape torch.Size([120]) batch_size 100\n",
      "self.y_data.shape torch.Size([120]) batch_size 100\n",
      "\t Adv idx: 2\n",
      "120\n",
      "self.y_data.shape torch.Size([120]) batch_size 100\n",
      "self.y_data.shape torch.Size([120]) batch_size 100\n",
      "\t Adv idx: 3\n",
      "120\n",
      "self.y_data.shape torch.Size([120]) batch_size 100\n",
      "self.y_data.shape torch.Size([120]) batch_size 100\n",
      "\t Adv idx: 4\n",
      "120\n",
      "self.y_data.shape torch.Size([120]) batch_size 100\n",
      "self.y_data.shape torch.Size([120]) batch_size 100\n",
      "\t Adv idx: 5\n",
      "120\n",
      "self.y_data.shape torch.Size([120]) batch_size 100\n",
      "self.y_data.shape torch.Size([120]) batch_size 100\n",
      "\t Adv idx: 6\n",
      "120\n",
      "self.y_data.shape torch.Size([120]) batch_size 100\n",
      "self.y_data.shape torch.Size([120]) batch_size 100\n",
      "\t Adv idx: 7\n",
      "120\n",
      "self.y_data.shape torch.Size([120]) batch_size 100\n",
      "self.y_data.shape torch.Size([120]) batch_size 100\n",
      "\t Adv idx: 8\n",
      "120\n",
      "self.y_data.shape torch.Size([120]) batch_size 100\n",
      "self.y_data.shape torch.Size([120]) batch_size 100\n",
      "\t Adv idx: 9\n",
      "120\n",
      "self.y_data.shape torch.Size([120]) batch_size 100\n",
      "self.y_data.shape torch.Size([120]) batch_size 100\n",
      "==> Clients initialization..\n",
      "===> Building data iterators..\n"
     ]
    },
    {
     "name": "stderr",
     "output_type": "stream",
     "text": [
      "100%|██████████| 100/100 [00:00<00:00, 522.24it/s]\n"
     ]
    },
    {
     "name": "stdout",
     "output_type": "stream",
     "text": [
      "===> Initializing clients..\n"
     ]
    },
    {
     "name": "stderr",
     "output_type": "stream",
     "text": [
      "100%|██████████| 100/100 [00:29<00:00,  3.44it/s]\n"
     ]
    },
    {
     "name": "stdout",
     "output_type": "stream",
     "text": [
      "==> Test Clients initialization..\n",
      "===> Building data iterators..\n"
     ]
    },
    {
     "name": "stderr",
     "output_type": "stream",
     "text": [
      "0it [00:00, ?it/s]\n"
     ]
    },
    {
     "name": "stdout",
     "output_type": "stream",
     "text": [
      "===> Initializing clients..\n"
     ]
    },
    {
     "name": "stderr",
     "output_type": "stream",
     "text": [
      "0it [00:00, ?it/s]\n"
     ]
    },
    {
     "name": "stdout",
     "output_type": "stream",
     "text": [
      "++++++++++++++++++++++++++++++\n",
      "Global..\n",
      "Train Loss: 4.613 | Train Acc: 1.042% |Test Loss: 4.615 | Test Acc: 1.250% |\n",
      "++++++++++++++++++++++++++++++++++++++++++++++++++\n",
      "################################################################################\n",
      "processing file /home/ubuntu/code/FedEM/weights/cifar100/client_count/FedAvg_adv/c20/ ...\n",
      "\t Adv idx: 0\n",
      "120\n",
      "self.y_data.shape torch.Size([120]) batch_size 100\n",
      "self.y_data.shape torch.Size([120]) batch_size 100\n",
      "\t Adv idx: 1\n",
      "120\n",
      "self.y_data.shape torch.Size([120]) batch_size 100\n",
      "self.y_data.shape torch.Size([120]) batch_size 100\n",
      "\t Adv idx: 2\n",
      "120\n",
      "self.y_data.shape torch.Size([120]) batch_size 100\n",
      "self.y_data.shape torch.Size([120]) batch_size 100\n",
      "\t Adv idx: 3\n",
      "120\n",
      "self.y_data.shape torch.Size([120]) batch_size 100\n",
      "self.y_data.shape torch.Size([120]) batch_size 100\n",
      "\t Adv idx: 4\n",
      "120\n",
      "self.y_data.shape torch.Size([120]) batch_size 100\n",
      "self.y_data.shape torch.Size([120]) batch_size 100\n",
      "\t Adv idx: 5\n",
      "120\n",
      "self.y_data.shape torch.Size([120]) batch_size 100\n",
      "self.y_data.shape torch.Size([120]) batch_size 100\n",
      "\t Adv idx: 6\n",
      "120\n",
      "self.y_data.shape torch.Size([120]) batch_size 100\n",
      "self.y_data.shape torch.Size([120]) batch_size 100\n",
      "\t Adv idx: 7\n",
      "120\n",
      "self.y_data.shape torch.Size([120]) batch_size 100\n",
      "self.y_data.shape torch.Size([120]) batch_size 100\n",
      "\t Adv idx: 8\n",
      "120\n",
      "self.y_data.shape torch.Size([120]) batch_size 100\n",
      "self.y_data.shape torch.Size([120]) batch_size 100\n",
      "\t Adv idx: 9\n",
      "120\n",
      "self.y_data.shape torch.Size([120]) batch_size 100\n",
      "self.y_data.shape torch.Size([120]) batch_size 100\n",
      "\t Adv idx: 10\n",
      "120\n",
      "self.y_data.shape torch.Size([120]) batch_size 100\n",
      "self.y_data.shape torch.Size([120]) batch_size 100\n",
      "\t Adv idx: 11\n",
      "120\n",
      "self.y_data.shape torch.Size([120]) batch_size 100\n",
      "self.y_data.shape torch.Size([120]) batch_size 100\n",
      "\t Adv idx: 12\n",
      "120\n",
      "self.y_data.shape torch.Size([120]) batch_size 100\n",
      "self.y_data.shape torch.Size([120]) batch_size 100\n",
      "\t Adv idx: 13\n",
      "120\n",
      "self.y_data.shape torch.Size([120]) batch_size 100\n",
      "self.y_data.shape torch.Size([120]) batch_size 100\n",
      "\t Adv idx: 14\n",
      "120\n",
      "self.y_data.shape torch.Size([120]) batch_size 100\n",
      "self.y_data.shape torch.Size([120]) batch_size 100\n",
      "\t Adv idx: 15\n",
      "120\n",
      "self.y_data.shape torch.Size([120]) batch_size 100\n",
      "self.y_data.shape torch.Size([120]) batch_size 100\n",
      "\t Adv idx: 16\n",
      "120\n",
      "self.y_data.shape torch.Size([120]) batch_size 100\n",
      "self.y_data.shape torch.Size([120]) batch_size 100\n",
      "\t Adv idx: 17\n",
      "120\n",
      "self.y_data.shape torch.Size([120]) batch_size 100\n",
      "self.y_data.shape torch.Size([120]) batch_size 100\n",
      "\t Adv idx: 18\n",
      "120\n",
      "self.y_data.shape torch.Size([120]) batch_size 100\n",
      "self.y_data.shape torch.Size([120]) batch_size 100\n",
      "\t Adv idx: 19\n",
      "120\n",
      "self.y_data.shape torch.Size([120]) batch_size 100\n",
      "self.y_data.shape torch.Size([120]) batch_size 100\n",
      "==> Clients initialization..\n",
      "===> Building data iterators..\n"
     ]
    },
    {
     "name": "stderr",
     "output_type": "stream",
     "text": [
      "100%|██████████| 100/100 [00:00<00:00, 535.07it/s]\n"
     ]
    },
    {
     "name": "stdout",
     "output_type": "stream",
     "text": [
      "===> Initializing clients..\n"
     ]
    },
    {
     "name": "stderr",
     "output_type": "stream",
     "text": [
      "100%|██████████| 100/100 [00:28<00:00,  3.49it/s]\n"
     ]
    },
    {
     "name": "stdout",
     "output_type": "stream",
     "text": [
      "==> Test Clients initialization..\n",
      "===> Building data iterators..\n"
     ]
    },
    {
     "name": "stderr",
     "output_type": "stream",
     "text": [
      "0it [00:00, ?it/s]\n"
     ]
    },
    {
     "name": "stdout",
     "output_type": "stream",
     "text": [
      "===> Initializing clients..\n"
     ]
    },
    {
     "name": "stderr",
     "output_type": "stream",
     "text": [
      "0it [00:00, ?it/s]\n"
     ]
    },
    {
     "name": "stdout",
     "output_type": "stream",
     "text": [
      "++++++++++++++++++++++++++++++\n",
      "Global..\n",
      "Train Loss: 4.613 | Train Acc: 1.111% |Test Loss: 4.615 | Test Acc: 1.222% |\n",
      "++++++++++++++++++++++++++++++++++++++++++++++++++\n",
      "################################################################################\n",
      "processing file /home/ubuntu/code/FedEM/weights/cifar100/client_count/FedAvg_adv/c30/ ...\n",
      "\t Adv idx: 0\n",
      "120\n",
      "self.y_data.shape torch.Size([120]) batch_size 100\n",
      "self.y_data.shape torch.Size([120]) batch_size 100\n",
      "\t Adv idx: 1\n",
      "120\n",
      "self.y_data.shape torch.Size([120]) batch_size 100\n",
      "self.y_data.shape torch.Size([120]) batch_size 100\n",
      "\t Adv idx: 2\n",
      "120\n",
      "self.y_data.shape torch.Size([120]) batch_size 100\n",
      "self.y_data.shape torch.Size([120]) batch_size 100\n",
      "\t Adv idx: 3\n",
      "120\n",
      "self.y_data.shape torch.Size([120]) batch_size 100\n",
      "self.y_data.shape torch.Size([120]) batch_size 100\n",
      "\t Adv idx: 4\n",
      "120\n",
      "self.y_data.shape torch.Size([120]) batch_size 100\n",
      "self.y_data.shape torch.Size([120]) batch_size 100\n",
      "\t Adv idx: 5\n",
      "120\n",
      "self.y_data.shape torch.Size([120]) batch_size 100\n",
      "self.y_data.shape torch.Size([120]) batch_size 100\n",
      "\t Adv idx: 6\n",
      "120\n",
      "self.y_data.shape torch.Size([120]) batch_size 100\n",
      "self.y_data.shape torch.Size([120]) batch_size 100\n",
      "\t Adv idx: 7\n",
      "120\n",
      "self.y_data.shape torch.Size([120]) batch_size 100\n",
      "self.y_data.shape torch.Size([120]) batch_size 100\n",
      "\t Adv idx: 8\n",
      "120\n",
      "self.y_data.shape torch.Size([120]) batch_size 100\n",
      "self.y_data.shape torch.Size([120]) batch_size 100\n",
      "\t Adv idx: 9\n",
      "120\n",
      "self.y_data.shape torch.Size([120]) batch_size 100\n",
      "self.y_data.shape torch.Size([120]) batch_size 100\n",
      "\t Adv idx: 10\n",
      "120\n",
      "self.y_data.shape torch.Size([120]) batch_size 100\n",
      "self.y_data.shape torch.Size([120]) batch_size 100\n",
      "\t Adv idx: 11\n",
      "120\n",
      "self.y_data.shape torch.Size([120]) batch_size 100\n",
      "self.y_data.shape torch.Size([120]) batch_size 100\n",
      "\t Adv idx: 12\n",
      "120\n",
      "self.y_data.shape torch.Size([120]) batch_size 100\n",
      "self.y_data.shape torch.Size([120]) batch_size 100\n",
      "\t Adv idx: 13\n",
      "120\n",
      "self.y_data.shape torch.Size([120]) batch_size 100\n",
      "self.y_data.shape torch.Size([120]) batch_size 100\n",
      "\t Adv idx: 14\n",
      "120\n",
      "self.y_data.shape torch.Size([120]) batch_size 100\n",
      "self.y_data.shape torch.Size([120]) batch_size 100\n",
      "\t Adv idx: 15\n",
      "120\n",
      "self.y_data.shape torch.Size([120]) batch_size 100\n",
      "self.y_data.shape torch.Size([120]) batch_size 100\n",
      "\t Adv idx: 16\n",
      "120\n",
      "self.y_data.shape torch.Size([120]) batch_size 100\n",
      "self.y_data.shape torch.Size([120]) batch_size 100\n",
      "\t Adv idx: 17\n",
      "120\n",
      "self.y_data.shape torch.Size([120]) batch_size 100\n",
      "self.y_data.shape torch.Size([120]) batch_size 100\n",
      "\t Adv idx: 18\n",
      "120\n",
      "self.y_data.shape torch.Size([120]) batch_size 100\n",
      "self.y_data.shape torch.Size([120]) batch_size 100\n",
      "\t Adv idx: 19\n",
      "120\n",
      "self.y_data.shape torch.Size([120]) batch_size 100\n",
      "self.y_data.shape torch.Size([120]) batch_size 100\n",
      "\t Adv idx: 20\n",
      "120\n",
      "self.y_data.shape torch.Size([120]) batch_size 100\n",
      "self.y_data.shape torch.Size([120]) batch_size 100\n",
      "\t Adv idx: 21\n",
      "120\n",
      "self.y_data.shape torch.Size([120]) batch_size 100\n",
      "self.y_data.shape torch.Size([120]) batch_size 100\n",
      "\t Adv idx: 22\n",
      "120\n",
      "self.y_data.shape torch.Size([120]) batch_size 100\n",
      "self.y_data.shape torch.Size([120]) batch_size 100\n",
      "\t Adv idx: 23\n",
      "120\n",
      "self.y_data.shape torch.Size([120]) batch_size 100\n",
      "self.y_data.shape torch.Size([120]) batch_size 100\n",
      "\t Adv idx: 24\n",
      "120\n",
      "self.y_data.shape torch.Size([120]) batch_size 100\n",
      "self.y_data.shape torch.Size([120]) batch_size 100\n",
      "\t Adv idx: 25\n",
      "120\n",
      "self.y_data.shape torch.Size([120]) batch_size 100\n",
      "self.y_data.shape torch.Size([120]) batch_size 100\n",
      "\t Adv idx: 26\n",
      "120\n",
      "self.y_data.shape torch.Size([120]) batch_size 100\n",
      "self.y_data.shape torch.Size([120]) batch_size 100\n",
      "\t Adv idx: 27\n",
      "120\n",
      "self.y_data.shape torch.Size([120]) batch_size 100\n",
      "self.y_data.shape torch.Size([120]) batch_size 100\n",
      "\t Adv idx: 28\n",
      "120\n",
      "self.y_data.shape torch.Size([120]) batch_size 100\n",
      "self.y_data.shape torch.Size([120]) batch_size 100\n",
      "\t Adv idx: 29\n",
      "120\n",
      "self.y_data.shape torch.Size([120]) batch_size 100\n",
      "self.y_data.shape torch.Size([120]) batch_size 100\n",
      "==> Clients initialization..\n",
      "===> Building data iterators..\n"
     ]
    },
    {
     "name": "stderr",
     "output_type": "stream",
     "text": [
      "100%|██████████| 100/100 [00:00<00:00, 536.29it/s]\n"
     ]
    },
    {
     "name": "stdout",
     "output_type": "stream",
     "text": [
      "===> Initializing clients..\n"
     ]
    },
    {
     "name": "stderr",
     "output_type": "stream",
     "text": [
      "100%|██████████| 100/100 [00:28<00:00,  3.46it/s]\n"
     ]
    },
    {
     "name": "stdout",
     "output_type": "stream",
     "text": [
      "==> Test Clients initialization..\n",
      "===> Building data iterators..\n"
     ]
    },
    {
     "name": "stderr",
     "output_type": "stream",
     "text": [
      "0it [00:00, ?it/s]\n"
     ]
    },
    {
     "name": "stdout",
     "output_type": "stream",
     "text": [
      "===> Initializing clients..\n"
     ]
    },
    {
     "name": "stderr",
     "output_type": "stream",
     "text": [
      "0it [00:00, ?it/s]\n"
     ]
    },
    {
     "name": "stdout",
     "output_type": "stream",
     "text": [
      "++++++++++++++++++++++++++++++\n",
      "Global..\n",
      "Train Loss: 4.612 | Train Acc: 1.115% |Test Loss: 4.615 | Test Acc: 1.167% |\n",
      "++++++++++++++++++++++++++++++++++++++++++++++++++\n",
      "################################################################################\n",
      "processing file /home/ubuntu/code/FedEM/weights/cifar100/client_count/FedAvg_adv/c40/ ...\n",
      "\t Adv idx: 0\n",
      "120\n",
      "self.y_data.shape torch.Size([120]) batch_size 100\n",
      "self.y_data.shape torch.Size([120]) batch_size 100\n",
      "\t Adv idx: 1\n",
      "120\n",
      "self.y_data.shape torch.Size([120]) batch_size 100\n",
      "self.y_data.shape torch.Size([120]) batch_size 100\n",
      "\t Adv idx: 2\n",
      "120\n",
      "self.y_data.shape torch.Size([120]) batch_size 100\n",
      "self.y_data.shape torch.Size([120]) batch_size 100\n",
      "\t Adv idx: 3\n",
      "120\n",
      "self.y_data.shape torch.Size([120]) batch_size 100\n",
      "self.y_data.shape torch.Size([120]) batch_size 100\n",
      "\t Adv idx: 4\n",
      "120\n",
      "self.y_data.shape torch.Size([120]) batch_size 100\n",
      "self.y_data.shape torch.Size([120]) batch_size 100\n",
      "\t Adv idx: 5\n",
      "120\n",
      "self.y_data.shape torch.Size([120]) batch_size 100\n",
      "self.y_data.shape torch.Size([120]) batch_size 100\n",
      "\t Adv idx: 6\n",
      "120\n",
      "self.y_data.shape torch.Size([120]) batch_size 100\n",
      "self.y_data.shape torch.Size([120]) batch_size 100\n",
      "\t Adv idx: 7\n",
      "120\n",
      "self.y_data.shape torch.Size([120]) batch_size 100\n",
      "self.y_data.shape torch.Size([120]) batch_size 100\n",
      "\t Adv idx: 8\n",
      "120\n",
      "self.y_data.shape torch.Size([120]) batch_size 100\n",
      "self.y_data.shape torch.Size([120]) batch_size 100\n",
      "\t Adv idx: 9\n",
      "120\n",
      "self.y_data.shape torch.Size([120]) batch_size 100\n",
      "self.y_data.shape torch.Size([120]) batch_size 100\n",
      "\t Adv idx: 10\n",
      "120\n",
      "self.y_data.shape torch.Size([120]) batch_size 100\n",
      "self.y_data.shape torch.Size([120]) batch_size 100\n",
      "\t Adv idx: 11\n",
      "120\n",
      "self.y_data.shape torch.Size([120]) batch_size 100\n",
      "self.y_data.shape torch.Size([120]) batch_size 100\n",
      "\t Adv idx: 12\n",
      "120\n",
      "self.y_data.shape torch.Size([120]) batch_size 100\n",
      "self.y_data.shape torch.Size([120]) batch_size 100\n",
      "\t Adv idx: 13\n",
      "120\n",
      "self.y_data.shape torch.Size([120]) batch_size 100\n",
      "self.y_data.shape torch.Size([120]) batch_size 100\n",
      "\t Adv idx: 14\n",
      "120\n",
      "self.y_data.shape torch.Size([120]) batch_size 100\n",
      "self.y_data.shape torch.Size([120]) batch_size 100\n",
      "\t Adv idx: 15\n",
      "120\n",
      "self.y_data.shape torch.Size([120]) batch_size 100\n",
      "self.y_data.shape torch.Size([120]) batch_size 100\n",
      "\t Adv idx: 16\n",
      "120\n",
      "self.y_data.shape torch.Size([120]) batch_size 100\n",
      "self.y_data.shape torch.Size([120]) batch_size 100\n",
      "\t Adv idx: 17\n",
      "120\n",
      "self.y_data.shape torch.Size([120]) batch_size 100\n",
      "self.y_data.shape torch.Size([120]) batch_size 100\n",
      "\t Adv idx: 18\n",
      "120\n",
      "self.y_data.shape torch.Size([120]) batch_size 100\n",
      "self.y_data.shape torch.Size([120]) batch_size 100\n",
      "\t Adv idx: 19\n",
      "120\n",
      "self.y_data.shape torch.Size([120]) batch_size 100\n",
      "self.y_data.shape torch.Size([120]) batch_size 100\n",
      "\t Adv idx: 20\n",
      "120\n",
      "self.y_data.shape torch.Size([120]) batch_size 100\n",
      "self.y_data.shape torch.Size([120]) batch_size 100\n",
      "\t Adv idx: 21\n",
      "120\n",
      "self.y_data.shape torch.Size([120]) batch_size 100\n",
      "self.y_data.shape torch.Size([120]) batch_size 100\n",
      "\t Adv idx: 22\n",
      "120\n",
      "self.y_data.shape torch.Size([120]) batch_size 100\n",
      "self.y_data.shape torch.Size([120]) batch_size 100\n",
      "\t Adv idx: 23\n",
      "120\n",
      "self.y_data.shape torch.Size([120]) batch_size 100\n",
      "self.y_data.shape torch.Size([120]) batch_size 100\n",
      "\t Adv idx: 24\n",
      "120\n",
      "self.y_data.shape torch.Size([120]) batch_size 100\n",
      "self.y_data.shape torch.Size([120]) batch_size 100\n",
      "\t Adv idx: 25\n",
      "120\n",
      "self.y_data.shape torch.Size([120]) batch_size 100\n",
      "self.y_data.shape torch.Size([120]) batch_size 100\n",
      "\t Adv idx: 26\n",
      "120\n",
      "self.y_data.shape torch.Size([120]) batch_size 100\n",
      "self.y_data.shape torch.Size([120]) batch_size 100\n",
      "\t Adv idx: 27\n",
      "120\n",
      "self.y_data.shape torch.Size([120]) batch_size 100\n",
      "self.y_data.shape torch.Size([120]) batch_size 100\n",
      "\t Adv idx: 28\n",
      "120\n",
      "self.y_data.shape torch.Size([120]) batch_size 100\n",
      "self.y_data.shape torch.Size([120]) batch_size 100\n",
      "\t Adv idx: 29\n",
      "120\n",
      "self.y_data.shape torch.Size([120]) batch_size 100\n",
      "self.y_data.shape torch.Size([120]) batch_size 100\n",
      "\t Adv idx: 30\n",
      "120\n",
      "self.y_data.shape torch.Size([120]) batch_size 100\n",
      "self.y_data.shape torch.Size([120]) batch_size 100\n",
      "\t Adv idx: 31\n",
      "120\n",
      "self.y_data.shape torch.Size([120]) batch_size 100\n",
      "self.y_data.shape torch.Size([120]) batch_size 100\n",
      "\t Adv idx: 32\n",
      "120\n",
      "self.y_data.shape torch.Size([120]) batch_size 100\n",
      "self.y_data.shape torch.Size([120]) batch_size 100\n",
      "\t Adv idx: 33\n",
      "120\n",
      "self.y_data.shape torch.Size([120]) batch_size 100\n",
      "self.y_data.shape torch.Size([120]) batch_size 100\n",
      "\t Adv idx: 34\n",
      "120\n",
      "self.y_data.shape torch.Size([120]) batch_size 100\n",
      "self.y_data.shape torch.Size([120]) batch_size 100\n",
      "\t Adv idx: 35\n",
      "120\n",
      "self.y_data.shape torch.Size([120]) batch_size 100\n",
      "self.y_data.shape torch.Size([120]) batch_size 100\n",
      "\t Adv idx: 36\n",
      "120\n",
      "self.y_data.shape torch.Size([120]) batch_size 100\n",
      "self.y_data.shape torch.Size([120]) batch_size 100\n",
      "\t Adv idx: 37\n",
      "120\n",
      "self.y_data.shape torch.Size([120]) batch_size 100\n",
      "self.y_data.shape torch.Size([120]) batch_size 100\n",
      "\t Adv idx: 38\n",
      "120\n",
      "self.y_data.shape torch.Size([120]) batch_size 100\n",
      "self.y_data.shape torch.Size([120]) batch_size 100\n",
      "\t Adv idx: 39\n",
      "120\n",
      "self.y_data.shape torch.Size([120]) batch_size 100\n",
      "self.y_data.shape torch.Size([120]) batch_size 100\n"
     ]
    }
   ],
   "source": [
    "# Inter Boundary Distance Metric\n",
    "custom_batch_size = 100\n",
    "\n",
    "exp_logs = {}\n",
    "num_exp = len(exp_names)\n",
    "\n",
    "for j in range(num_exp):\n",
    "    \n",
    "    aggregator, clients = dummy_aggregator(args_, num_user=cc[j])\n",
    "    num_victims = cc[j]\n",
    "    \n",
    "    # Set Up Dictionaries -- list holds the adversary idx\n",
    "\n",
    "\n",
    "    logs_adv = []\n",
    "\n",
    "    for i in range(num_victims):\n",
    "        adv_dict = {}\n",
    "        adv_dict['orig_acc_transfers'] = None\n",
    "        adv_dict['orig_similarities'] = None\n",
    "        adv_dict['adv_acc_transfers'] = None\n",
    "        adv_dict['adv_similarities_target'] = None\n",
    "        adv_dict['adv_similarities_untarget'] = None\n",
    "        adv_dict['adv_target'] = None\n",
    "        adv_dict['adv_miss'] = None\n",
    "        adv_dict['metric_alignment'] = None\n",
    "        adv_dict['ib_distance_legit'] = None\n",
    "        adv_dict['ib_distance_adv'] = None\n",
    "\n",
    "        logs_adv += [adv_dict]\n",
    "\n",
    "    exp_logs[j] = copy.deepcopy(logs_adv)\n",
    "\n",
    "    \n",
    "    \n",
    "    print('processing file', exp_names[j], '...')\n",
    "    \n",
    "    # Change name if need be\n",
    "    args_.save_path = exp_names[j]\n",
    "\n",
    "    # Import weights for aggregator\n",
    "    aggregator.load_state(args_.save_path)\n",
    "\n",
    "    # This is where the models are stored -- one for each mixture --> learner.model for nn\n",
    "    hypotheses = aggregator.global_learners_ensemble.learners\n",
    "\n",
    "    # obtain the state dict for each of the weights \n",
    "    weights_h = []\n",
    "\n",
    "    for h in hypotheses:\n",
    "        weights_h += [h.model.state_dict()]\n",
    "        \n",
    "    weight_name = args_.save_path + train_item\n",
    "    weights = np.load(weight_name)\n",
    "    np.set_printoptions(formatter={'float': lambda x: \"{0:0.2f}\".format(x)})\n",
    "\n",
    "    # Set model weights\n",
    "    model_weights = []\n",
    "    num_models = num_victims\n",
    "\n",
    "    for i in range(num_models):\n",
    "        model_weights += [weights[i]]\n",
    "\n",
    "\n",
    "    # Generate the weights to test on as linear combinations of the model_weights\n",
    "    models_test = []\n",
    "\n",
    "    for w0 in model_weights:\n",
    "        # first make the model with empty weights\n",
    "        new_model = copy.deepcopy(hypotheses[0].model)\n",
    "        new_model.eval()\n",
    "        new_weight_dict = copy.deepcopy(weights_h[0])\n",
    "        for key in weights_h[0]:\n",
    "#             new_weight_dict[key] = w0*weights_h[0][key]  + w1*weights_h[1][key] +w2*weights_h[2][key] \n",
    "            new_weight_dict[key] = w0[0]*weights_h[0][key]\n",
    "        new_model.load_state_dict(new_weight_dict)\n",
    "        models_test += [new_model]\n",
    "    \n",
    "\n",
    "    victim_idxs = range(num_victims)\n",
    "\n",
    "    for adv_idx in victim_idxs:\n",
    "        print(\"\\t Adv idx:\", adv_idx)\n",
    "        # Perform Attacks\n",
    "        dataloader = load_client_data(clients = clients, c_id = adv_idx, mode = 'test') # or test/train\n",
    "        batch_size = min(custom_batch_size, dataloader.y_data.shape[0])\n",
    "        \n",
    "        t1 = Transferer(models_list=models_test, dataloader=dataloader)\n",
    "        t1.generate_victims(victim_idxs)\n",
    "        \n",
    "        t1.atk_params = PGD_Params()\n",
    "        t1.atk_params.set_params(batch_size=batch_size, iteration = 10,\n",
    "                       target = 3, x_val_min = torch.min(data_x), x_val_max = torch.max(data_x),\n",
    "                       step_size = 0.05, step_norm = \"inf\", eps = 4, eps_norm = 2)\n",
    "\n",
    "        t1.generate_advNN(adv_idx)\n",
    "        t1.generate_xadv(atk_type = \"pgd\")\n",
    "        t1.send_to_victims(victim_idxs)\n",
    "        # t1.check_empirical_metrics(orig_flag = True)\n",
    "\n",
    "        # Log Performance\n",
    "        exp_logs[j][adv_idx]['orig_acc_transfers'] = copy.deepcopy(t1.orig_acc_transfers)\n",
    "        exp_logs[j][adv_idx]['orig_similarities'] = copy.deepcopy(t1.orig_similarities)\n",
    "        exp_logs[j][adv_idx]['adv_acc_transfers'] = copy.deepcopy(t1.adv_acc_transfers)\n",
    "        exp_logs[j][adv_idx]['adv_similarities_target'] = copy.deepcopy(t1.adv_similarities)        \n",
    "        exp_logs[j][adv_idx]['adv_target'] = copy.deepcopy(t1.adv_target_hit)\n",
    "\n",
    "        # Miss attack\n",
    "        t1.atk_params.set_params(batch_size=batch_size, iteration = 10,\n",
    "                       target = -1, x_val_min = torch.min(data_x), x_val_max = torch.max(data_x),\n",
    "                       step_size = 0.05, step_norm = \"inf\", eps = 4, eps_norm = 2)\n",
    "        t1.generate_xadv(atk_type = \"pgd\")\n",
    "        t1.send_to_victims(victim_idxs)\n",
    "        exp_logs[j][adv_idx]['adv_miss'] = copy.deepcopy(t1.adv_acc_transfers)\n",
    "        exp_logs[j][adv_idx]['adv_similarities_untarget'] = copy.deepcopy(t1.adv_similarities)\n",
    "\n",
    "\n",
    "    del models_test"
   ]
  },
  {
   "cell_type": "markdown",
   "metadata": {},
   "source": [
    "Organizing and plotting data"
   ]
  },
  {
   "cell_type": "code",
   "execution_count": 7,
   "metadata": {},
   "outputs": [],
   "source": [
    "metrics = ['orig_acc_transfers','orig_similarities','adv_acc_transfers','adv_similarities_target',\n",
    "           'adv_similarities_untarget','adv_target','adv_miss'] #,'metric_alignment']\n",
    "\n",
    "\n",
    "orig_acc = []\n",
    "orig_sim = []\n",
    "adv_acc = []\n",
    "adv_sim_target = []\n",
    "adv_sim_untarget = []\n",
    "adv_target = []\n",
    "adv_miss = []\n",
    "\n",
    "for i in range(len(exp_names)):\n",
    "    victim_idxs = range(cc[i])\n",
    "    \n",
    "    orig_acc += [np.zeros([len(victim_idxs),len(victim_idxs)])]\n",
    "    orig_sim += [np.zeros([len(victim_idxs),len(victim_idxs)])]\n",
    "    adv_acc += [np.zeros([len(victim_idxs),len(victim_idxs)]) ]\n",
    "    adv_sim_target += [np.zeros([len(victim_idxs),len(victim_idxs)]) ]\n",
    "    adv_sim_untarget += [np.zeros([len(victim_idxs),len(victim_idxs)]) ]\n",
    "    adv_target += [np.zeros([len(victim_idxs),len(victim_idxs)])]\n",
    "    adv_miss += [np.zeros([len(victim_idxs),len(victim_idxs)]) ]\n",
    "    \n",
    "    for adv_idx in range(len(victim_idxs)):\n",
    "        for victim in range(len(victim_idxs)):\n",
    "            orig_acc[i][adv_idx,victim] = exp_logs[i][victim_idxs[adv_idx]][metrics[0]][victim_idxs[victim]].data.tolist()\n",
    "            orig_sim[i][adv_idx,victim] = exp_logs[i][victim_idxs[adv_idx]][metrics[1]][victim_idxs[victim]].data.tolist()\n",
    "            adv_acc[i][adv_idx,victim] = exp_logs[i][victim_idxs[adv_idx]][metrics[2]][victim_idxs[victim]].data.tolist()\n",
    "            adv_sim_target[i][adv_idx,victim] = exp_logs[i][victim_idxs[adv_idx]][metrics[3]][victim_idxs[victim]].data.tolist()\n",
    "            adv_sim_untarget[i][adv_idx,victim] = exp_logs[i][victim_idxs[adv_idx]][metrics[4]][victim_idxs[victim]].data.tolist()\n",
    "            adv_target[i][adv_idx,victim] = exp_logs[i][victim_idxs[adv_idx]][metrics[5]][victim_idxs[victim]].data.tolist()\n",
    "            adv_miss[i][adv_idx,victim] = exp_logs[i][victim_idxs[adv_idx]][metrics[6]][victim_idxs[victim]].data.tolist()"
   ]
  },
  {
   "cell_type": "code",
   "execution_count": 8,
   "metadata": {},
   "outputs": [
    {
     "name": "stdout",
     "output_type": "stream",
     "text": [
      "y_acc [0.22599999308586122, 0.3419999867677689, 0.3794999897480011, 0.38666665653387705, 0.42174998819828036]\n",
      "y_robust [0.009999999776482582, 0.008999999798834323, 0.007999999821186066, 0.012999999709427357, 0.014499999629333616]\n",
      "y_target [0.34896681308746336, 0.4359854459762573, 0.4206716060638428, 0.35290272732575734, 0.3043584793806076]\n"
     ]
    }
   ],
   "source": [
    "# Edit desired data\n",
    "x = [5,10,20,30,40]\n",
    "# Acc\n",
    "y_acc = []\n",
    "y_robust = []\n",
    "y_target = []\n",
    "for i in range(len(exp_names)):\n",
    "    y_acc += [np.mean(np.diagonal(orig_acc[i]))]\n",
    "    y_robust += [avg_nondiag(adv_miss[i])]\n",
    "    y_target += [avg_nondiag(adv_target[i])]\n",
    "    \n",
    "print('y_acc', y_acc)\n",
    "print('y_robust', y_robust)\n",
    "print('y_target', y_target)\n",
    "\n",
    "y = [y_acc, y_robust, y_target]"
   ]
  },
  {
   "cell_type": "code",
   "execution_count": 11,
   "metadata": {},
   "outputs": [
    {
     "data": {
      "text/plain": [
       "Text(0.5, 1.0, 'CIFAR-100 Federated Client Count')"
      ]
     },
     "execution_count": 11,
     "metadata": {},
     "output_type": "execute_result"
    },
    {
     "data": {
      "image/png": "[encoded data removed]",
      "text/plain": [
       "<Figure size 432x288 with 1 Axes>"
      ]
     },
     "metadata": {
      "needs_background": "light"
     },
     "output_type": "display_data"
    }
   ],
   "source": [
    "# FedEM\n",
    "\n",
    "y_acc_em = [0.16599999517202377, 0.21999999657273292, 0.2794999912381172, 0.23499999344348907, 0.28674999102950094]\n",
    "y_robust_em = [0.014999999664723873, 0.009111110948854022, 0.017263157469661613, 0.014126436450871927, 0.01415384583031902]\n",
    "y_target_em = [0.17947608474642038, 0.15890425105268757, 0.39980315052365, 0.08861512299198872, 0.3419023237167261]\n",
    "\n",
    "y_acc_av = [0.22599999308586122, 0.3419999867677689, 0.3794999897480011, 0.38666665653387705, 0.42174998819828036]\n",
    "y_robust_av = [0.009999999776482582, 0.008999999798834323, 0.007999999821186066, 0.012999999709427357, 0.014499999629333616]\n",
    "y_target_av = [0.34896681308746336, 0.4359854459762573, 0.4206716060638428, 0.35290272732575734, 0.3043584793806076]\n",
    "\n",
    "\n",
    "y1 = [y_acc_em, y_robust_em, y_target_em]\n",
    "y2 = [y_acc_av, y_robust_av, y_target_av]\n",
    "\n",
    "font = {'family' : 'normal',\n",
    "        'weight' : 'normal',\n",
    "        'size'   : 14}\n",
    "\n",
    "plt.rc('font', **font)\n",
    "\n",
    "\n",
    "names1 = ['FedEM Test Acc.', 'FedEM Adv. Acc.']\n",
    "names2 = ['FedAvg Test Acc.', 'FedAvg Adv. Acc.']\n",
    "colors = ['b','r']\n",
    "types = ['-', '--']\n",
    "\n",
    "\n",
    "for i in range(len(names1)):\n",
    "    plt.plot(x,y1[i],label= names1[i], linestyle = types[i], color = colors[0])\n",
    "for i in range(len(names2)):\n",
    "    plt.plot(x,y2[i],label= names2[i], linestyle = types[i], color = colors[1])\n",
    "    \n",
    "plt.legend(frameon=True)\n",
    "plt.xlim(3, 43);\n",
    "# plt.ylim(0, 1.0);\n",
    "plt.xlabel('Number of Clients Participating in Learning')\n",
    "plt.ylabel('Accuracy')\n",
    "plt.title(\"CIFAR-100 Federated Client Count\")\n",
    "\n"
   ]
  },
  {
   "cell_type": "code",
   "execution_count": null,
   "metadata": {},
   "outputs": [],
   "source": []
  }
 ],
 "metadata": {
  "kernelspec": {
   "display_name": "celeba",
   "language": "python",
   "name": "celeba"
  },
  "language_info": {
   "codemirror_mode": {
    "name": "ipython",
    "version": 3
   },
   "file_extension": ".py",
   "mimetype": "text/x-python",
   "name": "python",
   "nbconvert_exporter": "python",
   "pygments_lexer": "ipython3",
   "version": "3.8.5"
  }
 },
 "nbformat": 4,
 "nbformat_minor": 4
}
